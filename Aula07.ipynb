{
 "cells": [
  {
   "cell_type": "code",
   "execution_count": null,
   "metadata": {},
   "outputs": [],
   "source": [
    "#1 \n",
    "\n",
    "loop = True\n",
    "\n",
    "while loop:\n",
    "    num = input('Digite um número entre 0 e 10: ')\n",
    "    num = int(num)\n",
    "    if num < 0 or num > 10:\n",
    "        print('valor incorreto')\n",
    "    else:\n",
    "        loop = False\n",
    "\n",
    "print('Processo completo!')"
   ]
  },
  {
   "cell_type": "code",
   "execution_count": null,
   "metadata": {},
   "outputs": [],
   "source": [
    "#2\n",
    "\n",
    "loop = True\n",
    "\n",
    "while loop:\n",
    "    user = input('Digite seu usuário: ')\n",
    "    senha = input('Digite sua senha: ')\n",
    "    if user == senha:\n",
    "        print('Informações iguais, digite novamente')\n",
    "    else:\n",
    "        loop = False\n",
    "\n",
    "print('Processo completo!')"
   ]
  },
  {
   "cell_type": "code",
   "execution_count": null,
   "metadata": {},
   "outputs": [],
   "source": [
    "#3\n",
    "\n",
    "loop = True\n",
    "\n",
    "while loop:\n",
    "    user = input('Digite seu usuário: ')\n",
    "    if len(user) <= 3:\n",
    "        print('Informações inválidas, digite novamente')\n",
    "    else:\n",
    "        print('Informações corretas')\n",
    "        loop = False\n",
    "\n",
    "loop = True\n",
    "\n",
    "while loop:\n",
    "    idade = input('Digite sua idade: ')\n",
    "    idade = int(idade)\n",
    "    if idade > 150 or idade < 0:\n",
    "        print('Informações inválidas, digite novamente')\n",
    "    else:\n",
    "        print('Informações corretas')\n",
    "        loop = False\n",
    "\n",
    "loop = True\n",
    "\n",
    "while loop:\n",
    "    salario = input('Digite seu salario: ')\n",
    "    salario = float(salario)\n",
    "    if salario < 0:\n",
    "        print('Informações inválidas, digite novamente')\n",
    "    else:\n",
    "        print('Informações corretas')\n",
    "        loop = False\n",
    "\n",
    "loop = True\n",
    "\n",
    "while loop:\n",
    "    sexo = input('Digite seu sexo: ')\n",
    "    if sexo.lower() in ['f', 'm']:\n",
    "        print('Informações corretas')\n",
    "        loop = False\n",
    "    else:\n",
    "        print('Informações inválidas, digite novamente')\n",
    "\n",
    "loop = True\n",
    "\n",
    "while loop:\n",
    "    estado = input('Digite seu estado civil: ')\n",
    "    if estado.lower() in ['s', 'c', 'v', 'd']:\n",
    "        print('Informações inválidas, digite novamente')\n",
    "    else:\n",
    "        print('Informações corretas')\n",
    "        loop = False\n",
    "\n",
    "\n"
   ]
  },
  {
   "cell_type": "code",
   "execution_count": null,
   "metadata": {},
   "outputs": [],
   "source": [
    "#4\n",
    "\n",
    "a = 80000\n",
    "b = 200000\n",
    "\n",
    "anos = 0\n",
    "\n",
    "while (a < b):\n",
    "    a *= 1.030\n",
    "    b *= 1.015\n",
    "    anos += 1\n",
    "\n",
    "print(f'A população de A ficou maior que a de B em {anos} anos' + '\\n' +\n",
    "      f'A: {a}' + '\\n' +\n",
    "      f'B: {b}' + '\\n' )"
   ]
  },
  {
   "cell_type": "code",
   "execution_count": null,
   "metadata": {},
   "outputs": [],
   "source": [
    "#5 \n",
    "\n",
    "a = input('Digite a população A:')\n",
    "a = int(a)\n",
    "b = input('Digite a população B:')\n",
    "b = int(b)\n",
    "taxaa = input('Digite a porcentagem da taxa de crescimento do A:')\n",
    "taxaa = int(taxaa)\n",
    "taxab = input('Digite a porcentagem da taxa de crescimento do B:')\n",
    "taxab = int(taxab)\n",
    "\n",
    "anos = 0\n",
    "\n",
    "while (a < b):\n",
    "    a *= (taxaa * 0.01)\n",
    "    b *= (taxaa * 0.01)\n",
    "    anos += 1\n",
    "\n",
    "print(f'A população de A ficou maior que a de B em {anos} anos' + '\\n' +\n",
    "      f'A: {a}' + '\\n' +\n",
    "      f'B: {b}' + '\\n' )"
   ]
  },
  {
   "cell_type": "code",
   "execution_count": null,
   "metadata": {},
   "outputs": [],
   "source": [
    "#6\n",
    "\n",
    "items = []\n",
    "\n",
    "for i in range(21):\n",
    "    print(i)\n",
    "    items.append(i)\n",
    "\n",
    "print(items)"
   ]
  },
  {
   "cell_type": "code",
   "execution_count": 43,
   "metadata": {},
   "outputs": [
    {
     "name": "stdout",
     "output_type": "stream",
     "text": [
      "['3', '4', '5', '8', '2']\n"
     ]
    }
   ],
   "source": [
    "#7\n",
    "\n",
    "items = []\n",
    "\n",
    "for i in range(5):\n",
    "    items.append(input('Digite um numero'))\n",
    "\n",
    "print(items)"
   ]
  }
 ],
 "metadata": {
  "kernelspec": {
   "display_name": "Python 3",
   "language": "python",
   "name": "python3"
  },
  "language_info": {
   "codemirror_mode": {
    "name": "ipython",
    "version": 3
   },
   "file_extension": ".py",
   "mimetype": "text/x-python",
   "name": "python",
   "nbconvert_exporter": "python",
   "pygments_lexer": "ipython3",
   "version": "3.11.4"
  },
  "orig_nbformat": 4
 },
 "nbformat": 4,
 "nbformat_minor": 2
}
