{
 "cells": [
  {
   "cell_type": "code",
   "execution_count": 2,
   "id": "b6f63bc1-70c0-4dbd-ac57-787313da276b",
   "metadata": {},
   "outputs": [],
   "source": [
    "import json\n",
    "import requests"
   ]
  },
  {
   "cell_type": "code",
   "execution_count": 2,
   "id": "5905b414-f6ff-45b0-970d-bd2a8779ee7a",
   "metadata": {},
   "outputs": [
    {
     "data": {
      "text/plain": [
       "<Response [200]>"
      ]
     },
     "execution_count": 2,
     "metadata": {},
     "output_type": "execute_result"
    }
   ],
   "source": [
    "response_user = requests.get('https://randomuser.me/api/')\n",
    "response_user"
   ]
  },
  {
   "cell_type": "code",
   "execution_count": 55,
   "id": "2e07f8e4-a87c-4276-8004-8921ffdd854c",
   "metadata": {},
   "outputs": [
    {
     "name": "stdin",
     "output_type": "stream",
     "text": [
      "Quantos usuários você quer? 5\n",
      "Qual gênero você deseja? 1 - M, 2 - F, 3 - Sem preferência 2\n",
      "Qual nacionalidade você deseja? Digite N para nenhuma br\n"
     ]
    },
    {
     "name": "stdout",
     "output_type": "stream",
     "text": [
      "https://randomuser.me/api/?results=5&gender=female&nat=br\n"
     ]
    }
   ],
   "source": [
    "num_usuarios = int(input('Quantos usuários você quer?'))\n",
    "url = f'https://randomuser.me/api/?results={num_usuarios}'\n",
    "\n",
    "genero = input('Qual gênero você deseja? 1 - M, 2 - F, 3 - Sem preferência')\n",
    "if genero == '1':\n",
    "    url += '&gender=male'\n",
    "if genero == '2':\n",
    "    url += '&gender=female'\n",
    "\n",
    "nac = input('Qual nacionalidade você deseja? Digite N para nenhuma')\n",
    "if not nac.lower() == 'n':\n",
    "    url += f'&nat={nac}'\n",
    "\n",
    "print(url)\n",
    "response = requests.get(url)"
   ]
  },
  {
   "cell_type": "code",
   "execution_count": 49,
   "id": "afe370bd-1389-4d17-9867-e4aff11f9344",
   "metadata": {},
   "outputs": [
    {
     "name": "stdout",
     "output_type": "stream",
     "text": [
      "[{'nome': 'Jesús Crespo', 'idade': '62', 'pais': 'Spain', 'genero': 'female'}, {'nome': 'Gaurav Mendonsa', 'idade': '29', 'pais': 'India', 'genero': 'male'}, {'nome': 'Fanny Boyer', 'idade': '53', 'pais': 'France', 'genero': 'female'}, {'nome': 'Ilhan Hopf', 'idade': '46', 'pais': 'Germany', 'genero': 'male'}, {'nome': 'Zvezdan Stojković', 'idade': '36', 'pais': 'Serbia', 'genero': 'male'}]\n"
     ]
    }
   ],
   "source": [
    "dados = response.json()\n",
    "lista_dic = []\n",
    "\n",
    "for x in range(len(dados[\"results\"])):\n",
    "    nome_completo = (f'{dados[\"results\"][x][\"name\"][\"first\"]} {dados[\"results\"][x][\"name\"][\"last\"]}') # nome completo\n",
    "    idade = (f'{dados[\"results\"][x][\"dob\"][\"age\"]}') # idade\n",
    "    pais = (f'{dados[\"results\"][x][\"location\"][\"country\"]}') # pais\n",
    "    genero = (f'{dados[\"results\"][x][\"gender\"]}') # genero\n",
    "    nome_arquivo = (f'{dados[\"results\"][x][\"name\"][\"first\"]}_{dados[\"results\"][x][\"name\"][\"last\"]}').lower()\n",
    "    \n",
    "    dic = {\n",
    "        \"nome\": nome_completo,\n",
    "        \"idade\": idade,\n",
    "        \"pais\": pais,\n",
    "        \"genero\": genero,\n",
    "    }\n",
    "    lista_dic.append(dic)\n",
    "    \n",
    "    with open(f'{nome_arquivo}.json', 'w', encoding='utf-8') as file:\n",
    "        json.dump(dic, file, indent=4, ensure_ascii=False)\n",
    "        \n",
    "print(lista_dic)"
   ]
  }
 ],
 "metadata": {
  "kernelspec": {
   "display_name": "Python 3 (ipykernel)",
   "language": "python",
   "name": "python3"
  },
  "language_info": {
   "codemirror_mode": {
    "name": "ipython",
    "version": 3
   },
   "file_extension": ".py",
   "mimetype": "text/x-python",
   "name": "python",
   "nbconvert_exporter": "python",
   "pygments_lexer": "ipython3",
   "version": "3.12.3"
  }
 },
 "nbformat": 4,
 "nbformat_minor": 5
}
