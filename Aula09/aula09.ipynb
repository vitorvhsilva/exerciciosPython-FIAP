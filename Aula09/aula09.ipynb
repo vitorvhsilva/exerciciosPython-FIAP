{
 "cells": [
  {
   "cell_type": "code",
   "execution_count": 19,
   "metadata": {},
   "outputs": [
    {
     "name": "stdout",
     "output_type": "stream",
     "text": [
      "4\n"
     ]
    }
   ],
   "source": [
    "def funcao_parametro(x):\n",
    "  print(x)\n",
    "  \n",
    "def funcao_multiplos_parametros(a: int, b: int, c: int, d: int):\n",
    "  soma = a + b + c + d\n",
    "  print(soma)\n",
    "  \n",
    "def funcao_dois_parametros(a: str, b: str ):\n",
    "  print(f'Primeiro: {a}')\n",
    "  print(f'Segundo: {b}')\n",
    "  \n",
    "def funcao_parametro_return(x, y):\n",
    "  return x ** y\n",
    "\n",
    "# funcao_dois_parametros('teste','abcde')\n",
    "# funcao_dois_parametros(b='teste',a='abcde')\n",
    "\n",
    "# print(funcao_parametro_return(2, 5))\n",
    "\n",
    "# def funcao_args(*args):\n",
    "#   print(f'Parametros: {args}')\n",
    "#   print(f'Tamanho: {len(args)}')\n",
    "  \n",
    "#   for i in args:\n",
    "#     print(f'Argumento: {i} - Tipo: {type(i)}')\n",
    "# funcao_args(1, 2, True, 'teste')\n",
    "    \n",
    "# def funcao_kwargs(**kwargs):\n",
    "#   print(f'Parametros: {kwargs}')\n",
    "#   print(f'Tamanho: {len(kwargs)}')\n",
    "  \n",
    "#   for k, v in kwargs.items():\n",
    "#     print(f'Chave: {k} - Valor: {v}')\n",
    "    \n",
    "# funcao_kwargs(nome='vagner', idade=38, altura=1.70)\n",
    "\n",
    "# def funcao_args_lista(*args):\n",
    "#   lista = list(args)\n",
    "  \n",
    "#   print(f'Parametros: {args}')\n",
    "#   print(f'Tamanho: {len(args)}')\n",
    "  \n",
    "#   while lista:\n",
    "#     i = lista.pop()\n",
    "#     print(f'Argumento: {i} - Tipo: {type(i)}')\n",
    "    \n",
    "# funcao_args_lista(1, 2, True, 'teste')\n",
    "\n",
    "# def funcao_parametros_default(a, b, pi=3.14):\n",
    "#   return (a ** b) / pi\n",
    "\n",
    "# funcao_parametros_default(10, 4, 3.14159)\n",
    "\n",
    "# def funcao_parametro_misto(x, y, pi=3.14, *args, **kwargs):\n",
    "#   print(f'Parametro 1: {x}')\n",
    "#   print(f'Parametro 2: {y}')\n",
    "#   print(f'Parametro 3: {pi}')\n",
    "#   if args:\n",
    "#     print(f'Parametro 4: {args}')\n",
    "#   if kwargs:\n",
    "#     print(f'Parametro 5: {kwargs}')\n",
    "  \n",
    "# funcao_parametro_misto(2, 3, 3.14159, 2, 3, 4, nome='Vitor',idade='18', altura=1.70)\n",
    "\n",
    "funcao_lambda = lambda x: x ** 2\n",
    "\n",
    "print(funcao_lambda(2))"
   ]
  }
 ],
 "metadata": {
  "kernelspec": {
   "display_name": "Python 3",
   "language": "python",
   "name": "python3"
  },
  "language_info": {
   "codemirror_mode": {
    "name": "ipython",
    "version": 3
   },
   "file_extension": ".py",
   "mimetype": "text/x-python",
   "name": "python",
   "nbconvert_exporter": "python",
   "pygments_lexer": "ipython3",
   "version": "3.12.2"
  }
 },
 "nbformat": 4,
 "nbformat_minor": 2
}
