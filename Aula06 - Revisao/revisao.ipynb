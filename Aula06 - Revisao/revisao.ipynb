{
 "cells": [
  {
   "cell_type": "code",
   "execution_count": 1,
   "id": "0144957b-dbd3-4ed6-8a15-6d51eb95067b",
   "metadata": {},
   "outputs": [
    {
     "name": "stdin",
     "output_type": "stream",
     "text": [
      "Informe algo:  123\n"
     ]
    }
   ],
   "source": [
    "entrada = input('Informe algo: ') # entrada de dados --> string"
   ]
  },
  {
   "cell_type": "code",
   "execution_count": 2,
   "id": "b56ce62d-b5c3-4c6a-b3ca-c468739b3167",
   "metadata": {},
   "outputs": [
    {
     "name": "stdout",
     "output_type": "stream",
     "text": [
      "Olá, mundo!\n"
     ]
    }
   ],
   "source": [
    "print('Olá, mundo!') # saída de dados"
   ]
  },
  {
   "cell_type": "code",
   "execution_count": 4,
   "id": "6ffdfa23-b417-43c3-8c2c-8d8bb9407300",
   "metadata": {},
   "outputs": [],
   "source": [
    "nome = 'Vagner' # string\n",
    "genero = 'M' # string\n",
    "idade = 38 # int\n",
    "peso = 65.5 # float\n",
    "usuario_python = True # bool"
   ]
  },
  {
   "cell_type": "code",
   "execution_count": 5,
   "id": "ed97e63f-8b2b-4d12-b1f5-f5f0df432447",
   "metadata": {},
   "outputs": [
    {
     "data": {
      "text/plain": [
       "(str, str, int, float, bool)"
      ]
     },
     "execution_count": 5,
     "metadata": {},
     "output_type": "execute_result"
    }
   ],
   "source": [
    "type(nome), type(genero), type(idade), type(peso), type(usuario_python) "
   ]
  },
  {
   "cell_type": "code",
   "execution_count": 13,
   "id": "ea3d5af6-15d4-4cbe-ae96-d2195c59c925",
   "metadata": {},
   "outputs": [
    {
     "data": {
      "text/plain": [
       "('123', str)"
      ]
     },
     "execution_count": 13,
     "metadata": {},
     "output_type": "execute_result"
    }
   ],
   "source": [
    "entrada, type(entrada) # padrão do input"
   ]
  },
  {
   "cell_type": "code",
   "execution_count": 18,
   "id": "63a2d49b-b909-467f-9dee-95eec1a92b33",
   "metadata": {},
   "outputs": [
    {
     "data": {
      "text/plain": [
       "(False, False, False, 1000, 10.5, '555', '-3.14')"
      ]
     },
     "execution_count": 18,
     "metadata": {},
     "output_type": "execute_result"
    }
   ],
   "source": [
    "bool([]), bool(''), bool(0), int('0001000'), float('000010.5000'), str(555), str(-3.14)"
   ]
  },
  {
   "cell_type": "code",
   "execution_count": 16,
   "id": "da7c5c14-c5ff-492e-9979-0e76324feb65",
   "metadata": {},
   "outputs": [
    {
     "data": {
      "text/plain": [
       "('123123', 246)"
      ]
     },
     "execution_count": 16,
     "metadata": {},
     "output_type": "execute_result"
    }
   ],
   "source": [
    "entrada * 2, int(entrada) * 2"
   ]
  },
  {
   "cell_type": "code",
   "execution_count": 19,
   "id": "ca968ca7-bdf5-4c17-8266-65505a1c0e03",
   "metadata": {},
   "outputs": [],
   "source": [
    "soma = 10 + 10\n",
    "subtracao = 10 - 10\n",
    "multiplicacao = 10 * 10\n",
    "divisao = 10 / 3\n",
    "divisao_inteira = 10 // 3\n",
    "resto_divisao = 10 % 3\n",
    "potencia = 10 ** 3"
   ]
  },
  {
   "cell_type": "code",
   "execution_count": 20,
   "id": "89108b40-f68f-48c1-80d5-47b085bacd66",
   "metadata": {},
   "outputs": [
    {
     "data": {
      "text/plain": [
       "(20, 0, 100, 3.3333333333333335, 3, 1, 1000)"
      ]
     },
     "execution_count": 20,
     "metadata": {},
     "output_type": "execute_result"
    }
   ],
   "source": [
    "soma, subtracao, multiplicacao, divisao, divisao_inteira, resto_divisao, potencia"
   ]
  },
  {
   "cell_type": "code",
   "execution_count": 24,
   "id": "d8dd9269-1e7e-447f-91b4-04de5dba3ef4",
   "metadata": {},
   "outputs": [],
   "source": [
    "x = 10 - 5 * 2 + 4 / 2\n",
    "# 10 - 10 + 4 / 2\n",
    "# 10 - 10 + 2.0\n",
    "# 0 + 2.0\n",
    "# 2.0"
   ]
  },
  {
   "cell_type": "code",
   "execution_count": 25,
   "id": "5516cf4e-dace-44ce-94c0-c98216646155",
   "metadata": {},
   "outputs": [],
   "source": [
    "y = (10 - 5) * (2 + 4) / 2 \n",
    "# (5) * (6) / 2\n",
    "# 5 * 6 / 2\n",
    "# 30 / 2\n",
    "# 15.0"
   ]
  },
  {
   "cell_type": "code",
   "execution_count": 30,
   "id": "19fe9a39-3d3f-4d8e-a260-ab8629bc971f",
   "metadata": {},
   "outputs": [],
   "source": [
    "z = (10 - 5) * (2 + 4) + 1.0\n",
    "# (5) * (6) + 1.0\n",
    "# 5 * 6 + 1.0\n",
    "# 30 + 1.0\n",
    "# 31.0"
   ]
  },
  {
   "cell_type": "code",
   "execution_count": 32,
   "id": "a82bdffb-1908-4efb-83cf-dd0d76aab76a",
   "metadata": {},
   "outputs": [
    {
     "data": {
      "text/plain": [
       "(2.0, 15.0, 31.0, float, float, float)"
      ]
     },
     "execution_count": 32,
     "metadata": {},
     "output_type": "execute_result"
    }
   ],
   "source": [
    "x, y, z, type(x), type(y), type(z)"
   ]
  },
  {
   "cell_type": "code",
   "execution_count": 35,
   "id": "d05f7abd-d3e0-4b90-8df4-e288a0c20d94",
   "metadata": {},
   "outputs": [
    {
     "data": {
      "text/plain": [
       "(True, False, True, False, True, True)"
      ]
     },
     "execution_count": 35,
     "metadata": {},
     "output_type": "execute_result"
    }
   ],
   "source": [
    "10 == 10, 10 > 10, 10 < 100, 10 != 10, 10 >= 10, 10 <= 100"
   ]
  },
  {
   "cell_type": "code",
   "execution_count": 42,
   "id": "1a5d4a5d-9209-44da-b337-377c6fc567e4",
   "metadata": {},
   "outputs": [
    {
     "data": {
      "text/plain": [
       "(True, True, False, False, True, False)"
      ]
     },
     "execution_count": 42,
     "metadata": {},
     "output_type": "execute_result"
    }
   ],
   "source": [
    "'a' < 'b', 'abc' < 'abd', 'a' == 'A', 'a' < 'A', 'abc' == 'ABC'.lower(), 'Vagner' == 'VAGNER'"
   ]
  },
  {
   "cell_type": "code",
   "execution_count": 44,
   "id": "2e495f17-5061-41c4-9105-d27d4c8a106a",
   "metadata": {},
   "outputs": [
    {
     "data": {
      "text/plain": [
       "(True, False)"
      ]
     },
     "execution_count": 44,
     "metadata": {},
     "output_type": "execute_result"
    }
   ],
   "source": [
    "10 == 10, not 10 == 10"
   ]
  },
  {
   "cell_type": "code",
   "execution_count": 48,
   "id": "829a2465-3bed-42e7-8814-7b08cd94756c",
   "metadata": {},
   "outputs": [
    {
     "data": {
      "text/plain": [
       "(True, False, True)"
      ]
     },
     "execution_count": 48,
     "metadata": {},
     "output_type": "execute_result"
    }
   ],
   "source": [
    "type('vagner') is str, type('1000') is int, type(1000) is int"
   ]
  },
  {
   "cell_type": "code",
   "execution_count": 50,
   "id": "d1798cc7-6fd9-4a08-9971-bd858f65b954",
   "metadata": {},
   "outputs": [
    {
     "data": {
      "text/plain": [
       "(True, False)"
      ]
     },
     "execution_count": 50,
     "metadata": {},
     "output_type": "execute_result"
    }
   ],
   "source": [
    "'v' in 'vagner', 'v' in 'Vagner'"
   ]
  },
  {
   "cell_type": "code",
   "execution_count": 55,
   "id": "4e8dfec8-b096-4c40-bf7f-8a1e639b0b10",
   "metadata": {},
   "outputs": [
    {
     "data": {
      "text/plain": [
       "(False, True)"
      ]
     },
     "execution_count": 55,
     "metadata": {},
     "output_type": "execute_result"
    }
   ],
   "source": [
    "10 == 10 and 'x' == 'X' and 'v' in 'Vagner', 10 == 10 and 'x' == 'x' and 'v' in 'vagner'"
   ]
  },
  {
   "cell_type": "code",
   "execution_count": 58,
   "id": "b5cac7f0-30ac-4699-85f0-a6cc1f60f61d",
   "metadata": {},
   "outputs": [
    {
     "data": {
      "text/plain": [
       "(False, True, True)"
      ]
     },
     "execution_count": 58,
     "metadata": {},
     "output_type": "execute_result"
    }
   ],
   "source": [
    "9 == 10 or 'x' == 'X' or 'v' in 'Vagner', 10 == 10 or 'x' == 'X' or 'v' in 'Vagner', 10 == 10 or 'x' == 'x' or 'v' in 'vagner'"
   ]
  },
  {
   "cell_type": "code",
   "execution_count": 65,
   "id": "cb82a735-3d2b-4436-8153-36fab22da14e",
   "metadata": {},
   "outputs": [
    {
     "data": {
      "text/plain": [
       "(False, False, True, True)"
      ]
     },
     "execution_count": 65,
     "metadata": {},
     "output_type": "execute_result"
    }
   ],
   "source": [
    "(10 == 10) ^ (5 == 5), (11 == 10) ^ (6 == 5), (11 == 10) ^ (5 == 5), (10 == 10) ^ (6 == 5)"
   ]
  },
  {
   "cell_type": "code",
   "execution_count": 66,
   "id": "5d596cd9-9cf7-4ce9-9a9b-72161e2c60c6",
   "metadata": {},
   "outputs": [
    {
     "data": {
      "text/plain": [
       "True"
      ]
     },
     "execution_count": 66,
     "metadata": {},
     "output_type": "execute_result"
    }
   ],
   "source": [
    "10 == 10 and 'x' == 'X' or 'v' in 'vagner'\n",
    "# True and False or True\n",
    "# False or True\n",
    "# True"
   ]
  },
  {
   "cell_type": "code",
   "execution_count": 67,
   "id": "4f7b928c-e8ad-46e5-80a6-d029db8723fb",
   "metadata": {},
   "outputs": [],
   "source": [
    "string = 'lorem ipsum dolor'"
   ]
  },
  {
   "cell_type": "code",
   "execution_count": 70,
   "id": "dc42ba91-cc91-485c-a9fe-97d4dda9441f",
   "metadata": {},
   "outputs": [
    {
     "name": "stdout",
     "output_type": "stream",
     "text": [
      "l\n",
      "r\n"
     ]
    }
   ],
   "source": [
    "print(string[0]) # primeiro\n",
    "print(string[-1]) # último"
   ]
  },
  {
   "cell_type": "code",
   "execution_count": 95,
   "id": "eb0c2ded-ac98-41f7-a46a-79a492d5199b",
   "metadata": {},
   "outputs": [
    {
     "data": {
      "text/plain": [
       "(17, 'rem ', 'rem ipsum dolor', 'lorem ', 'oe pu ')"
      ]
     },
     "execution_count": 95,
     "metadata": {},
     "output_type": "execute_result"
    }
   ],
   "source": [
    "len(string), string[2: 6], string[2:], string[:6], string[1:12:2] # SSS: Start, Stop e Step"
   ]
  },
  {
   "cell_type": "code",
   "execution_count": 81,
   "id": "fe564983-0d14-4665-9f50-cba5b13395c9",
   "metadata": {},
   "outputs": [
    {
     "name": "stdout",
     "output_type": "stream",
     "text": [
      "Liberado\n"
     ]
    }
   ],
   "source": [
    "altura = 1.57\n",
    "acompanhado = True\n",
    "\n",
    "if altura > 1.5:\n",
    "    print('Liberado')\n",
    "elif altura > 1.4 and acompanhado:\n",
    "    print('Liberado Acompanhado')\n",
    "else:\n",
    "    print('Bloqueado')"
   ]
  },
  {
   "cell_type": "code",
   "execution_count": 84,
   "id": "e27f59dc-021f-4c7e-b882-269c8a378041",
   "metadata": {},
   "outputs": [],
   "source": [
    "perfil_contribuinte = 'avançado' #'básico'\n",
    "\n",
    "aliquota_imposto = 0.05 if perfil_contribuinte == 'básico' else 0.15"
   ]
  },
  {
   "cell_type": "code",
   "execution_count": 85,
   "id": "eff2963d-0ae0-477a-abfa-1b30e013a7e9",
   "metadata": {},
   "outputs": [
    {
     "data": {
      "text/plain": [
       "0.15"
      ]
     },
     "execution_count": 85,
     "metadata": {},
     "output_type": "execute_result"
    }
   ],
   "source": [
    "aliquota_imposto"
   ]
  },
  {
   "cell_type": "code",
   "execution_count": 92,
   "id": "31da81ec-99fb-4a99-9083-442f86d9cbcd",
   "metadata": {},
   "outputs": [],
   "source": [
    "lista = [1, 2, 3, 'abc', True, 3.14, 100, False, 'xyz', 555, 'qwert', 'Vagner', 987654.321]\n",
    "tupla = (100, '100')\n",
    "conjunto = {4, 2, 10, 2, 3, 5, 4}\n",
    "dicionario = {'chave': 100}"
   ]
  },
  {
   "cell_type": "code",
   "execution_count": 94,
   "id": "9ca3d923-b5a6-45f3-861f-c6ff84d9dbda",
   "metadata": {},
   "outputs": [
    {
     "data": {
      "text/plain": [
       "([1,\n",
       "  2,\n",
       "  3,\n",
       "  'abc',\n",
       "  True,\n",
       "  3.14,\n",
       "  100,\n",
       "  False,\n",
       "  'xyz',\n",
       "  555,\n",
       "  'qwert',\n",
       "  'Vagner',\n",
       "  987654.321],\n",
       " (100, '100'),\n",
       " {2, 3, 4, 5, 10},\n",
       " {'chave': 100})"
      ]
     },
     "execution_count": 94,
     "metadata": {},
     "output_type": "execute_result"
    }
   ],
   "source": [
    "lista, tupla, conjunto, dicionario"
   ]
  },
  {
   "cell_type": "code",
   "execution_count": 96,
   "id": "1b50e264-df34-4de6-92ca-4ae1b80d52ed",
   "metadata": {},
   "outputs": [
    {
     "data": {
      "text/plain": [
       "(13,\n",
       " [3, 'abc', True, 3.14],\n",
       " [3, 'abc', True, 3.14, 100, False, 'xyz', 555, 'qwert', 'Vagner', 987654.321],\n",
       " [1, 2, 3, 'abc', True, 3.14],\n",
       " [2, 'abc', 3.14, False, 555, 'Vagner'])"
      ]
     },
     "execution_count": 96,
     "metadata": {},
     "output_type": "execute_result"
    }
   ],
   "source": [
    "len(lista), lista[2: 6], lista[2:], lista[:6], lista[1:12:2]"
   ]
  },
  {
   "cell_type": "code",
   "execution_count": 97,
   "id": "0baa5f8b-34a3-4522-92d6-ff645f90758d",
   "metadata": {},
   "outputs": [
    {
     "data": {
      "text/plain": [
       "[1,\n",
       " 2,\n",
       " 3,\n",
       " 'abc',\n",
       " True,\n",
       " 3.14,\n",
       " 100,\n",
       " False,\n",
       " 'xyz',\n",
       " 555,\n",
       " 'qwert',\n",
       " 'Vagner',\n",
       " 987654.321]"
      ]
     },
     "execution_count": 97,
     "metadata": {},
     "output_type": "execute_result"
    }
   ],
   "source": [
    "lista"
   ]
  },
  {
   "cell_type": "code",
   "execution_count": 98,
   "id": "e50fe41a-03a6-404c-a7c7-0adbc4b1566b",
   "metadata": {},
   "outputs": [
    {
     "data": {
      "text/plain": [
       "(987654.321, 1)"
      ]
     },
     "execution_count": 98,
     "metadata": {},
     "output_type": "execute_result"
    }
   ],
   "source": [
    "lista.pop(), lista.pop(0) # remove e atribui"
   ]
  },
  {
   "cell_type": "code",
   "execution_count": 99,
   "id": "dafc0624-3a6e-4a58-b53c-718d63107086",
   "metadata": {},
   "outputs": [
    {
     "data": {
      "text/plain": [
       "[2, 3, 'abc', True, 3.14, 100, False, 'xyz', 555, 'qwert', 'Vagner']"
      ]
     },
     "execution_count": 99,
     "metadata": {},
     "output_type": "execute_result"
    }
   ],
   "source": [
    "lista"
   ]
  },
  {
   "cell_type": "code",
   "execution_count": 100,
   "id": "80ee701c-6795-41c5-a244-12834eb1da45",
   "metadata": {},
   "outputs": [
    {
     "data": {
      "text/plain": [
       "{'chave': 100}"
      ]
     },
     "execution_count": 100,
     "metadata": {},
     "output_type": "execute_result"
    }
   ],
   "source": [
    "dicionario"
   ]
  },
  {
   "cell_type": "code",
   "execution_count": 103,
   "id": "e7aaacc9-2cf5-4f54-914d-1ded92aba33a",
   "metadata": {},
   "outputs": [],
   "source": [
    "dicionario['chave'] = 300"
   ]
  },
  {
   "cell_type": "code",
   "execution_count": 104,
   "id": "3adafaf0-b09d-4d1c-991e-3f4d2f33f8bc",
   "metadata": {},
   "outputs": [
    {
     "data": {
      "text/plain": [
       "{'chave': 300}"
      ]
     },
     "execution_count": 104,
     "metadata": {},
     "output_type": "execute_result"
    }
   ],
   "source": [
    "dicionario"
   ]
  },
  {
   "cell_type": "code",
   "execution_count": 106,
   "id": "f70f6ce4-762f-46a3-9907-e54d90fa3861",
   "metadata": {},
   "outputs": [],
   "source": [
    "dicionario['chave_nova'] = 500"
   ]
  },
  {
   "cell_type": "code",
   "execution_count": 107,
   "id": "00bfbcdc-0591-4c04-b6b3-d69858287476",
   "metadata": {},
   "outputs": [
    {
     "data": {
      "text/plain": [
       "{'chave': 300, 'chave_nova': 500}"
      ]
     },
     "execution_count": 107,
     "metadata": {},
     "output_type": "execute_result"
    }
   ],
   "source": [
    "dicionario"
   ]
  },
  {
   "cell_type": "code",
   "execution_count": 109,
   "id": "71d699fe-ccba-472c-83b7-b6836c9e7351",
   "metadata": {},
   "outputs": [
    {
     "data": {
      "text/plain": [
       "True"
      ]
     },
     "execution_count": 109,
     "metadata": {},
     "output_type": "execute_result"
    }
   ],
   "source": [
    "dicionario.get('outra_chave') == None"
   ]
  },
  {
   "cell_type": "code",
   "execution_count": 110,
   "id": "752fe257-7302-4bef-b1a1-1682c76cc85e",
   "metadata": {},
   "outputs": [
    {
     "data": {
      "text/plain": [
       "1000"
      ]
     },
     "execution_count": 110,
     "metadata": {},
     "output_type": "execute_result"
    }
   ],
   "source": [
    "dicionario.get('outra_chave', 1000) "
   ]
  },
  {
   "cell_type": "code",
   "execution_count": 113,
   "id": "64328737-5f33-49e6-9cb1-81042335ba6a",
   "metadata": {},
   "outputs": [
    {
     "data": {
      "text/plain": [
       "(dict_keys(['chave', 'chave_nova']),\n",
       " dict_values([300, 500]),\n",
       " dict_items([('chave', 300), ('chave_nova', 500)]))"
      ]
     },
     "execution_count": 113,
     "metadata": {},
     "output_type": "execute_result"
    }
   ],
   "source": [
    "dicionario.keys(), dicionario.values(), dicionario.items()"
   ]
  },
  {
   "cell_type": "code",
   "execution_count": 114,
   "id": "08f2d781-76b9-4e88-aa55-17894fa2a949",
   "metadata": {},
   "outputs": [],
   "source": [
    "del dicionario['chave_nova']"
   ]
  },
  {
   "cell_type": "code",
   "execution_count": 115,
   "id": "32b62acc-9de6-4c9b-b2d7-87b0f806b571",
   "metadata": {},
   "outputs": [
    {
     "data": {
      "text/plain": [
       "{'chave': 300}"
      ]
     },
     "execution_count": 115,
     "metadata": {},
     "output_type": "execute_result"
    }
   ],
   "source": [
    "dicionario"
   ]
  },
  {
   "cell_type": "code",
   "execution_count": 117,
   "id": "41ecd6ec-fbb2-4c7c-9623-4494c5a62fb3",
   "metadata": {},
   "outputs": [
    {
     "name": "stdout",
     "output_type": "stream",
     "text": [
      "aaaaaaaaaa\n",
      "bbbbbbbbbb\n",
      "cccccccccc\n",
      "dddddddddd\n",
      "eeeeeeeeee\n"
     ]
    }
   ],
   "source": [
    "lista_for = ['a', 'b', 'c', 'd', 'e']\n",
    "\n",
    "for item in lista_for:\n",
    "\n",
    "    print(item * 10)"
   ]
  },
  {
   "cell_type": "code",
   "execution_count": 123,
   "id": "153d7515-1e44-4405-811d-fa8bd8f2da04",
   "metadata": {},
   "outputs": [
    {
     "name": "stdout",
     "output_type": "stream",
     "text": [
      "aaaaaaaaaa\n",
      "bbbbbbbbbb\n",
      "cccccccccc\n",
      "dddddddddd\n",
      "eeeeeeeeee\n"
     ]
    }
   ],
   "source": [
    "lista_while = ['a', 'b', 'c', 'd', 'e']\n",
    "\n",
    "while lista_while: # len(lista_while) > 0:\n",
    "\n",
    "    item = lista_while.pop(0)\n",
    "    print(item * 10)"
   ]
  },
  {
   "cell_type": "code",
   "execution_count": 124,
   "id": "670376ba-ce6f-44e0-810c-a0b181bf1a14",
   "metadata": {},
   "outputs": [
    {
     "name": "stdout",
     "output_type": "stream",
     "text": [
      "aaaaaaaaaa\n",
      "bbbbbbbbbb\n",
      "cccccccccc\n"
     ]
    }
   ],
   "source": [
    "lista_while = ['a', 'b', 'c', 'd', 'e']\n",
    "\n",
    "while lista_while: # len(lista_while) > 0:\n",
    "   \n",
    "    item = lista_while.pop(0)\n",
    "\n",
    "    if item == 'd':\n",
    "        break\n",
    "    \n",
    "    print(item * 10)"
   ]
  },
  {
   "cell_type": "code",
   "execution_count": 125,
   "id": "f70ff62d-575b-4725-ac21-15ff687c489d",
   "metadata": {},
   "outputs": [
    {
     "name": "stdout",
     "output_type": "stream",
     "text": [
      "aaaaaaaaaa\n",
      "bbbbbbbbbb\n",
      "cccccccccc\n",
      "eeeeeeeeee\n"
     ]
    }
   ],
   "source": [
    "lista_while = ['a', 'b', 'c', 'd', 'e']\n",
    "\n",
    "while lista_while: # len(lista_while) > 0:\n",
    "   \n",
    "    item = lista_while.pop(0)\n",
    "\n",
    "    if item == 'd':\n",
    "        continue\n",
    "    \n",
    "    print(item * 10)"
   ]
  },
  {
   "cell_type": "code",
   "execution_count": 134,
   "id": "86ec6bc8-913b-4daa-8978-44ca627ff101",
   "metadata": {},
   "outputs": [],
   "source": [
    "lista_ternario = ['a', 'b', 'c', 'd', 'e']\n",
    "\n",
    "for_ternario = [ item + '_sufixo' for item in lista_ternario]"
   ]
  },
  {
   "cell_type": "code",
   "execution_count": 135,
   "id": "43cf1da8-15e8-4841-a800-35e2c17ad71c",
   "metadata": {},
   "outputs": [
    {
     "data": {
      "text/plain": [
       "['a_sufixo', 'b_sufixo', 'c_sufixo', 'd_sufixo', 'e_sufixo']"
      ]
     },
     "execution_count": 135,
     "metadata": {},
     "output_type": "execute_result"
    }
   ],
   "source": [
    "for_ternario"
   ]
  },
  {
   "cell_type": "code",
   "execution_count": 137,
   "id": "436cf56f-0301-41ec-89b7-2647f266fa1e",
   "metadata": {},
   "outputs": [],
   "source": [
    "lista_ternario_int = [12, 10, 5, 344, 21, 3, 2, 0]\n",
    "\n",
    "for_ternario_int = [ str(item) + '_sufixo' for item in lista_ternario_int if item < 10 ]"
   ]
  },
  {
   "cell_type": "code",
   "execution_count": 138,
   "id": "76d87b73-a7e9-4795-acb8-a3f27aee31f1",
   "metadata": {},
   "outputs": [
    {
     "data": {
      "text/plain": [
       "['5_sufixo', '3_sufixo', '2_sufixo', '0_sufixo']"
      ]
     },
     "execution_count": 138,
     "metadata": {},
     "output_type": "execute_result"
    }
   ],
   "source": [
    "for_ternario_int"
   ]
  }
 ],
 "metadata": {
  "kernelspec": {
   "display_name": "Python 3 (ipykernel)",
   "language": "python",
   "name": "python3"
  },
  "language_info": {
   "codemirror_mode": {
    "name": "ipython",
    "version": 3
   },
   "file_extension": ".py",
   "mimetype": "text/x-python",
   "name": "python",
   "nbconvert_exporter": "python",
   "pygments_lexer": "ipython3",
   "version": "3.12.0"
  }
 },
 "nbformat": 4,
 "nbformat_minor": 5
}
