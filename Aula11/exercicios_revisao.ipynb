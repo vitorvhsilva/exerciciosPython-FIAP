{
 "cells": [
  {
   "attachments": {},
   "cell_type": "markdown",
   "id": "fc69b2e7",
   "metadata": {},
   "source": [
    "# Revisão Python: 0 to Hero"
   ]
  },
  {
   "attachments": {},
   "cell_type": "markdown",
   "id": "aee52bbd",
   "metadata": {},
   "source": [
    "### 1. Escreva um programa que verifica se um número é par ou ímpar."
   ]
  },
  {
   "cell_type": "code",
   "execution_count": null,
   "id": "67c0ecd6",
   "metadata": {},
   "outputs": [],
   "source": [
    "# Camilly\n",
    "\n",
    "valor = int(input('Informe um valor: '))\n",
    "\n",
    "print(\"Esse número é {}\".format('par' if valor % 2 == 0 else 'impar'))"
   ]
  },
  {
   "attachments": {},
   "cell_type": "markdown",
   "id": "80e5a468",
   "metadata": {},
   "source": [
    "### 2. Crie um programa que calcula a média de três números inseridos pelo usuário."
   ]
  },
  {
   "cell_type": "code",
   "execution_count": null,
   "id": "936e37e8",
   "metadata": {},
   "outputs": [],
   "source": [
    "def validar_float(valor):\n",
    "    return valor.replace('.', '', 1).isdigit()\n",
    "\n",
    "def validar_inteiro(valor):\n",
    "    return valor.isdigit()\n",
    "\n",
    "def validar(label_valor, funcao_validacao):\n",
    "\n",
    "    while True:\n",
    "\n",
    "        valor = input(f'Informe o {label_valor} valor: ')\n",
    "\n",
    "        if funcao_validacao(valor):\n",
    "            return float(valor)\n",
    "        else:\n",
    "            print('Valor incorreto! Tente novamente.')\n",
    "\n",
    "valor_1 = validar('primeiro', validar_float)\n",
    "valor_2 = validar('segundo', validar_float)\n",
    "valor_3 = validar('terceiro', validar_inteiro)\n",
    "\n",
    "(valor_1 + valor_2 + valor_3) / 3"
   ]
  },
  {
   "attachments": {},
   "cell_type": "markdown",
   "id": "7e522a11",
   "metadata": {},
   "source": [
    "### 3. Faça um programa que imprime os números de 1 a 10 usando um loop for."
   ]
  },
  {
   "cell_type": "code",
   "execution_count": null,
   "id": "cc7052c7",
   "metadata": {},
   "outputs": [],
   "source": [
    "for i in range(1, 11):\n",
    "    print(i, end=' ')"
   ]
  },
  {
   "attachments": {},
   "cell_type": "markdown",
   "id": "8eca9920",
   "metadata": {},
   "source": [
    "### 4. Escreva um programa que solicita ao usuário um número e imprime todos os números pares até ele."
   ]
  },
  {
   "cell_type": "code",
   "execution_count": null,
   "id": "5625a3df",
   "metadata": {},
   "outputs": [],
   "source": [
    "# Gustavo\n",
    "\n",
    "valor = int(input('Informe um valor: '))\n",
    "\n",
    "for i in range(2, valor + 1, 2):\n",
    "    print(i, end=' ')"
   ]
  },
  {
   "attachments": {},
   "cell_type": "markdown",
   "id": "4973de60",
   "metadata": {},
   "source": [
    "### 5. Implemente um programa que imprime a série de Fibonacci até o décimo termo."
   ]
  },
  {
   "cell_type": "code",
   "execution_count": null,
   "id": "592fad31",
   "metadata": {},
   "outputs": [],
   "source": [
    "# Luis\n",
    "\n",
    "limite = 10\n",
    "n1, n2 = 0, 1\n",
    "\n",
    "for i in range(limite):\n",
    "    print(n1, end=' ')\n",
    "    \n",
    "    n1, n2 = n2, n1 + n2"
   ]
  },
  {
   "attachments": {},
   "cell_type": "markdown",
   "id": "71258b84",
   "metadata": {},
   "source": [
    "### 6. Crie um programa que calcule a soma dos números de 1 a 100 usando um loop while."
   ]
  },
  {
   "cell_type": "code",
   "execution_count": null,
   "id": "227f16c3",
   "metadata": {},
   "outputs": [],
   "source": [
    "# Gabriel\n",
    "i = 0\n",
    "soma = 0\n",
    "while i <= 100:\n",
    "  soma += i\n",
    "  i += 1\n",
    "print(soma)\n"
   ]
  },
  {
   "attachments": {},
   "cell_type": "markdown",
   "id": "5a5585e3",
   "metadata": {},
   "source": [
    "### 7. Faça um programa que peça ao usuário um número e verifique se é positivo, negativo ou zero."
   ]
  },
  {
   "cell_type": "code",
   "execution_count": null,
   "id": "1bc8cbaf",
   "metadata": {},
   "outputs": [],
   "source": [
    "# João\n",
    "\n",
    "x = int(input('Informe um valor: '))\n",
    "            \n",
    "\"P\" if x > 0 else (\"Z\" if x == 0 else \"N\")"
   ]
  },
  {
   "attachments": {},
   "cell_type": "markdown",
   "id": "3bf80b33",
   "metadata": {},
   "source": [
    "### 8. Escreva um programa que imprime os múltiplos de 3 de 1 a 50."
   ]
  },
  {
   "cell_type": "code",
   "execution_count": null,
   "id": "ea17d1d5",
   "metadata": {},
   "outputs": [],
   "source": [
    "# João\n",
    "\n",
    "for i in range(1, 51):\n",
    "  if i % 3 == 0:\n",
    "    print(i)"
   ]
  },
  {
   "attachments": {},
   "cell_type": "markdown",
   "id": "90254ea1",
   "metadata": {},
   "source": [
    "### 9. Crie um programa que calcule a potência de um número informado pelo usuário usando um loop for."
   ]
  },
  {
   "cell_type": "code",
   "execution_count": null,
   "id": "6c904953",
   "metadata": {},
   "outputs": [],
   "source": [
    "numero = int(input('Digite um numero: '))\n",
    "pot = int(input('Digite a potencia: '))\n",
    "resul = numero\n",
    "\n",
    "for i in range(1, pot):\n",
    "  resul *= numero\n",
    "\n",
    "print(resul)"
   ]
  },
  {
   "attachments": {},
   "cell_type": "markdown",
   "id": "0ebc184f",
   "metadata": {},
   "source": [
    "### 10. Crie um programa que calcule o fatorial de um número inserido pelo usuário."
   ]
  },
  {
   "cell_type": "code",
   "execution_count": null,
   "id": "f6434d2f",
   "metadata": {},
   "outputs": [],
   "source": [
    "numero = int(input(\"Digite um número: \"))\n",
    "\n",
    "fatorial = 1\n",
    "\n",
    "if numero < 0:\n",
    "\n",
    "    print(\"Não é possível calcular o fatorial de um número negativo.\")\n",
    "\n",
    "elif numero == 0:\n",
    "\n",
    "    print(\"O fatorial de 0 é 1.\")\n",
    "\n",
    "else:\n",
    "\n",
    "    for i in range(1, numero + 1):\n",
    "\n",
    "        fatorial *= i\n",
    "\n",
    "    print(f\"O fatorial de {numero} é {fatorial}\")"
   ]
  },
  {
   "cell_type": "code",
   "execution_count": null,
   "id": "354b1783",
   "metadata": {},
   "outputs": [],
   "source": [
    "x = 0\n",
    "f = 1\n",
    "\n",
    "for i in range(x, 1, -1):\n",
    "    f *= i\n",
    "\n",
    "print(f)"
   ]
  },
  {
   "attachments": {},
   "cell_type": "markdown",
   "id": "33a4a4df",
   "metadata": {},
   "source": [
    "### 11. Crie um programa que leia um arquivo de texto e conte quantas palavras ele contém."
   ]
  },
  {
   "cell_type": "code",
   "execution_count": null,
   "id": "50a69f2d",
   "metadata": {},
   "outputs": [],
   "source": [
    "# Guilherme\n",
    "\n",
    "with open('teste.txt') as f:    \n",
    "    texto = f.read()\n",
    "\n",
    "len(texto.split())"
   ]
  },
  {
   "attachments": {},
   "cell_type": "markdown",
   "id": "ed0ef4f6",
   "metadata": {},
   "source": [
    "### 12. Escreva um programa que leia um arquivo e imprima o conteúdo em ordem reversa."
   ]
  },
  {
   "cell_type": "code",
   "execution_count": null,
   "id": "0a83099a",
   "metadata": {},
   "outputs": [],
   "source": [
    "with open('arquivo_1.txt') as f:    \n",
    "    texto = f.read()\n",
    "\n",
    "    palavras = texto.split()\n",
    "    print(\" \".join(palavras[::-1]))"
   ]
  },
  {
   "cell_type": "code",
   "execution_count": null,
   "id": "c56107b9",
   "metadata": {},
   "outputs": [],
   "source": [
    "print(texto[::-1])"
   ]
  },
  {
   "cell_type": "code",
   "execution_count": null,
   "id": "8d7320a6",
   "metadata": {},
   "outputs": [],
   "source": [
    "lista = [1, 2, 3, 4, 5, 6, 7, 8, 9]\n",
    "\n",
    "lista[::-3]"
   ]
  },
  {
   "cell_type": "code",
   "execution_count": null,
   "id": "f8450151",
   "metadata": {},
   "outputs": [],
   "source": [
    "list(range(10, 0, -1))"
   ]
  },
  {
   "cell_type": "code",
   "execution_count": null,
   "id": "e73189e1",
   "metadata": {},
   "outputs": [],
   "source": [
    "\" \".join(reversed(palavras))"
   ]
  },
  {
   "cell_type": "code",
   "execution_count": null,
   "id": "7b508cbc",
   "metadata": {},
   "outputs": [],
   "source": [
    "def func(x):\n",
    "    \n",
    "    for i in range(x):\n",
    "        yield i + 1"
   ]
  },
  {
   "cell_type": "code",
   "execution_count": null,
   "id": "c4fa5281",
   "metadata": {},
   "outputs": [],
   "source": [
    "for i in func(10):\n",
    "    print(i)"
   ]
  },
  {
   "cell_type": "code",
   "execution_count": null,
   "id": "c6213bbb",
   "metadata": {},
   "outputs": [],
   "source": [
    "list(func(10))"
   ]
  },
  {
   "attachments": {},
   "cell_type": "markdown",
   "id": "8e04e548",
   "metadata": {},
   "source": [
    "### 13. Faça um programa que copie o conteúdo de um arquivo para outro, ao contrário."
   ]
  },
  {
   "cell_type": "code",
   "execution_count": null,
   "id": "d0794a5f",
   "metadata": {},
   "outputs": [],
   "source": []
  },
  {
   "attachments": {},
   "cell_type": "markdown",
   "id": "78bee628",
   "metadata": {},
   "source": [
    "### 14. Implemente um programa que conte quantas vezes uma determinada palavra aparece em um arquivo."
   ]
  },
  {
   "cell_type": "code",
   "execution_count": null,
   "id": "e37a9e76",
   "metadata": {},
   "outputs": [],
   "source": [
    "with open('teste.txt') as f:    \n",
    "    print(f.read().count(input('Informe uma palavra: ')))"
   ]
  },
  {
   "cell_type": "code",
   "execution_count": null,
   "id": "88c0a2d2",
   "metadata": {},
   "outputs": [],
   "source": [
    "texto.count(\"velit\")"
   ]
  },
  {
   "attachments": {},
   "cell_type": "markdown",
   "id": "cd22e303",
   "metadata": {},
   "source": [
    "### 15. Escreva um programa que renomeie um arquivo."
   ]
  },
  {
   "cell_type": "code",
   "execution_count": null,
   "id": "3c65cc6e",
   "metadata": {},
   "outputs": [],
   "source": [
    "import os\n",
    "\n",
    "# os.rename('teste.txt', 'teste_old.txt')"
   ]
  },
  {
   "attachments": {},
   "cell_type": "markdown",
   "id": "122b4bdc",
   "metadata": {},
   "source": [
    "### 16. Implemente um programa que crie um novo diretório e mova para lá todos os arquivos da pasta atual que possuem a extensão especificada pelo usuário."
   ]
  },
  {
   "cell_type": "code",
   "execution_count": null,
   "id": "934aa42b",
   "metadata": {},
   "outputs": [],
   "source": [
    "import os\n",
    "import glob\n",
    "import shutil\n",
    "\n",
    "os.makedirs('diretorio')\n",
    "\n",
    "for file in glob.glob('*.txt'):\n",
    "    shutil.move(file, f'.\\\\diretorio\\\\{file}')"
   ]
  },
  {
   "cell_type": "code",
   "execution_count": null,
   "id": "ae62ff90",
   "metadata": {},
   "outputs": [],
   "source": [
    "valor = input('Informe um número: ')\n",
    "\n",
    "if valor.isdigit():\n",
    "    valor = int(valor)\n",
    "else:\n",
    "    print('Valor incorreto')"
   ]
  },
  {
   "cell_type": "code",
   "execution_count": null,
   "id": "9e4bb233",
   "metadata": {},
   "outputs": [],
   "source": [
    "valor = input('Informe um número: ')\n",
    "\n",
    "try:\n",
    "    valor = int(valor)\n",
    "except:\n",
    "    print('Valor incorreto')"
   ]
  },
  {
   "attachments": {},
   "cell_type": "markdown",
   "id": "bd852d75",
   "metadata": {},
   "source": [
    "### 17. Crie um programa que compare dois arquivos informados pelo usuário e imprima as linhas em que eles diferem."
   ]
  },
  {
   "cell_type": "code",
   "execution_count": null,
   "id": "7122c082",
   "metadata": {
    "scrolled": true
   },
   "outputs": [],
   "source": [
    "contador = 1\n",
    "\n",
    "with open('arquivo_1.txt') as f:\n",
    "    \n",
    "    linhas_1 = f.readlines()\n",
    "    \n",
    "with open('arquivo_2.txt') as f:\n",
    "    \n",
    "    linhas_2 = f.readlines()\n",
    "\n",
    "for i, j in zip(linhas_1, linhas_2):\n",
    "    if i != j:\n",
    "        print(f'Linha diferente encontrada: {contador}')\n",
    "    \n",
    "    contador += 1"
   ]
  },
  {
   "cell_type": "code",
   "execution_count": null,
   "id": "b63c45a2",
   "metadata": {},
   "outputs": [],
   "source": [
    "palavras_2"
   ]
  },
  {
   "attachments": {},
   "cell_type": "markdown",
   "id": "b5175bdb",
   "metadata": {},
   "source": [
    "### 18. Crie uma função que verifique se um número é primo e retorne \"Verdadeiro\" ou \"Falso\"."
   ]
  },
  {
   "cell_type": "code",
   "execution_count": null,
   "id": "7fb5a745",
   "metadata": {},
   "outputs": [],
   "source": [
    "num = int(input('Digite um numero: '))\n",
    "primo = 0\n",
    "for i in range(1, num + 1):\n",
    "  if num % i == 0: \n",
    "    primo += 1 \n",
    "\n",
    "\"Primo\" if primo == 2 else \"Nao e primo\"\n"
   ]
  },
  {
   "attachments": {},
   "cell_type": "markdown",
   "id": "4c91807e",
   "metadata": {},
   "source": [
    "### 19. Implemente uma função que retorne o máximo de três números."
   ]
  },
  {
   "cell_type": "code",
   "execution_count": null,
   "id": "eccdbe16",
   "metadata": {},
   "outputs": [],
   "source": [
    "# Gabriel\n",
    "\n",
    "def retornar_max(a, b, c):\n",
    "  lista = [a, b, c]\n",
    "  lista.sort(reverse=True)\n",
    "  print(lista[0])\n",
    "  \n",
    "retornar_max(2, 4, 7)"
   ]
  },
  {
   "attachments": {},
   "cell_type": "markdown",
   "id": "7467f86e",
   "metadata": {},
   "source": [
    "### 20. Escreva uma função que inverta uma string e retorne o resultado."
   ]
  },
  {
   "cell_type": "code",
   "execution_count": null,
   "id": "56806e38",
   "metadata": {},
   "outputs": [],
   "source": [
    "# def inverter_string(a):\n",
    "#   for i in a[-1:0:-1]:\n",
    "#     string += i\n",
    "#   print(string)\n",
    "  \n",
    "# inverter_string('abc')\n",
    "\n",
    "a = 'vitor'\n",
    "\n",
    "print(a[::-1])"
   ]
  },
  {
   "attachments": {},
   "cell_type": "markdown",
   "id": "71c512b9",
   "metadata": {},
   "source": [
    "### 21. Faça uma função que receba uma lista de números e retorne a soma deles."
   ]
  },
  {
   "cell_type": "code",
   "execution_count": null,
   "id": "828d81db",
   "metadata": {},
   "outputs": [],
   "source": [
    "def retornar_soma(lista):\n",
    "    return sum(lista)"
   ]
  },
  {
   "attachments": {},
   "cell_type": "markdown",
   "id": "78fea6ab",
   "metadata": {},
   "source": [
    "### 22. Crie uma função que verifique se uma string é um palíndromo."
   ]
  },
  {
   "cell_type": "code",
   "execution_count": null,
   "id": "a0a9fcab",
   "metadata": {},
   "outputs": [],
   "source": [
    "string = input('Digite uma palavra: ').lower()\n",
    " \n",
    "string_inversa = string[::-1]\n",
    "\n",
    "if string == string_inversa:\n",
    "\n",
    "    print (f\"A palavra {string} é um palíndromo!\")\n",
    "\n",
    "else:\n",
    "\n",
    "    print(f\"A palavra {string} não é um palíndromo!\")"
   ]
  },
  {
   "cell_type": "code",
   "execution_count": null,
   "id": "f8f09fdf",
   "metadata": {},
   "outputs": [],
   "source": [
    "#G4rtW@_123"
   ]
  },
  {
   "cell_type": "code",
   "execution_count": null,
   "id": "d0ef28e1",
   "metadata": {},
   "outputs": [],
   "source": [
    "VoltaOCaoArrependidoComORaboEntreAsPatas"
   ]
  },
  {
   "attachments": {},
   "cell_type": "markdown",
   "id": "63b37936",
   "metadata": {},
   "source": [
    "### 23. Faça uma função que retorne uma lista de todos os divisores inteiros de um número."
   ]
  },
  {
   "cell_type": "code",
   "execution_count": null,
   "id": "ecab0a50",
   "metadata": {},
   "outputs": [],
   "source": [
    "def retornar_divisores(num):\n",
    "    lista = []\n",
    "    for i in range(0, num + 1):\n",
    "        if i % 2 == 0:\n",
    "            lista.append(i)\n",
    "    return lista\n",
    "\n",
    "retornar_divisores(10)"
   ]
  },
  {
   "attachments": {},
   "cell_type": "markdown",
   "id": "123a8e4c",
   "metadata": {},
   "source": [
    "### 24. Crie uma função que converta temperatura em Celsius para Fahrenheit."
   ]
  },
  {
   "cell_type": "code",
   "execution_count": null,
   "id": "4a6f6ce8",
   "metadata": {},
   "outputs": [],
   "source": [
    "# Camilly\n",
    "\n",
    "celsius = float(input(\"Insira a temperatura em Celsius: \"))\n",
    "\n",
    "fahrenheit = (celsius * 1.8) + 32\n",
    "\n",
    "print(f\"A temperatura de {celsius} graus celsius se torna {fahrenheit} graus em fahrenheit\")"
   ]
  },
  {
   "attachments": {},
   "cell_type": "markdown",
   "id": "cfb80368",
   "metadata": {},
   "source": [
    "### 25. Crie um programa que simule um jogo de adivinhação. O programa escolherá um número aleatório entre 1 e 100, e o usuário terá que adivinhar qual é o número. O programa deve fornecer dicas se o palpite do usuário for muito alto ou muito baixo."
   ]
  },
  {
   "cell_type": "code",
   "execution_count": null,
   "id": "f9a549d4",
   "metadata": {},
   "outputs": [],
   "source": [
    "# Luis\n",
    "\n",
    "import random\n",
    "\n",
    "adv = random.randrange(1, 100)\n",
    "print(adv)\n",
    "\n",
    "num = int(input('Adivinhe o numero'))\n",
    "\n",
    "while num != adv:\n",
    "    num = int(input('Adivinhe o numero'))\n",
    "\n",
    "    if (num == adv):\n",
    "        print('Acertou!')\n",
    "\n",
    "    if (num - adv) > 10:\n",
    "        print('Muito alto')\n",
    "    elif (num - adv) > 0:\n",
    "        print('Um pouco menos. . .')\n",
    "\n",
    "    if (num - adv) < -10:\n",
    "        print('Muito baixo')\n",
    "    elif (num - adv) < 0:\n",
    "        print('Um pouco mais. . .')\n",
    "\n"
   ]
  },
  {
   "attachments": {},
   "cell_type": "markdown",
   "id": "a3854759",
   "metadata": {},
   "source": [
    "### 26. Implemente um programa que calcule a soma dos dígitos de um número inteiro inserido pelo usuário. Por exemplo, se o número for 123, a saída deve ser 6 (1 + 2 + 3)."
   ]
  },
  {
   "cell_type": "code",
   "execution_count": null,
   "id": "ca7d8109",
   "metadata": {},
   "outputs": [],
   "source": [
    "numero_usuario = input(\"Digite um número inteiro: \")\n",
    "\n",
    "sum([int(i) for i in numero_usuario])"
   ]
  },
  {
   "cell_type": "code",
   "execution_count": null,
   "id": "037812fd",
   "metadata": {},
   "outputs": [],
   "source": [
    "def ajuste_inflacao(valor):\n",
    "    \n",
    "    return valor * 1.15\n",
    "\n",
    "list(map(ajuste_inflacao, [1, 25, 10, 34]))"
   ]
  },
  {
   "cell_type": "code",
   "execution_count": null,
   "id": "e1c2bf91",
   "metadata": {},
   "outputs": [],
   "source": [
    "numero = '123'\n",
    "\n",
    "lista_numero = list(numero)\n",
    "\n",
    "list(map(int, lista_numero))"
   ]
  },
  {
   "cell_type": "code",
   "execution_count": null,
   "id": "4b06faa3",
   "metadata": {},
   "outputs": [],
   "source": [
    "lista_nova = '123'\n",
    "\n",
    "for j in [int(i) for i in lista_nova]:\n",
    "    print(j ** 2)\n",
    "\n",
    "for j in map(int, lista_nova):\n",
    "    print(j ** 2)"
   ]
  },
  {
   "attachments": {},
   "cell_type": "markdown",
   "id": "08190ebd",
   "metadata": {},
   "source": [
    "### 27. Faça um programa que receba um número inteiro e exiba a tabuada desse número, de 1 a 10."
   ]
  },
  {
   "cell_type": "code",
   "execution_count": 9,
   "id": "9df62c18",
   "metadata": {},
   "outputs": [
    {
     "name": "stdout",
     "output_type": "stream",
     "text": [
      "5 x 0 = 0\n",
      "5 x 1 = 5\n",
      "5 x 2 = 10\n",
      "5 x 3 = 15\n",
      "5 x 4 = 20\n",
      "5 x 5 = 25\n",
      "5 x 6 = 30\n",
      "5 x 7 = 35\n",
      "5 x 8 = 40\n",
      "5 x 9 = 45\n",
      "5 x 10 = 50\n"
     ]
    }
   ],
   "source": [
    "num = int(input('Digite o número'))\n",
    "\n",
    "for i in range(11):\n",
    "    print(f'{num} x {i} = {num*i}')\n"
   ]
  },
  {
   "attachments": {},
   "cell_type": "markdown",
   "id": "52d5b303",
   "metadata": {},
   "source": [
    "### 28. Faça um programa que leia um número inteiro positivo e exiba todos os números primos até esse número."
   ]
  },
  {
   "cell_type": "code",
   "execution_count": null,
   "id": "bf60757a",
   "metadata": {},
   "outputs": [],
   "source": []
  },
  {
   "attachments": {},
   "cell_type": "markdown",
   "id": "67a2b35d",
   "metadata": {},
   "source": [
    "### 29. Escreva um programa que calcule a sequência de Collatz para um número inserido pelo usuário e exiba cada iteração na tela. A sequência de Collatz é gerada da seguinte forma: se o número for par, divida-o por 2; se for ímpar, multiplique-o por 3 e adicione 1. Repita o processo até chegar ao número 1."
   ]
  },
  {
   "cell_type": "code",
   "execution_count": null,
   "id": "ea856138",
   "metadata": {},
   "outputs": [],
   "source": [
    "# Lucas\n",
    "\n",
    "def collatz(numero):\n",
    "    \n",
    "    sequencia = [numero]\n",
    "    \n",
    "    while numero > 1:        \n",
    "        \n",
    "        numero = numero / 2 if numero % 2 == 0 else numero * 3 + 1        \n",
    "        sequencia.append(numero)\n",
    "    \n",
    "    return sequencia\n",
    "\n",
    "collatz(98)"
   ]
  },
  {
   "attachments": {},
   "cell_type": "markdown",
   "id": "a5bc9f5c",
   "metadata": {},
   "source": [
    "### 30. Faça um programa que leia um arquivo de texto e crie um novo arquivo com todas as palavras em ordem alfabética."
   ]
  },
  {
   "cell_type": "code",
   "execution_count": null,
   "id": "3c6c83d4",
   "metadata": {},
   "outputs": [],
   "source": []
  },
  {
   "attachments": {},
   "cell_type": "markdown",
   "id": "6927e844",
   "metadata": {},
   "source": [
    "### 31. Faça um programa que leia um arquivo de texto e substitua todas as ocorrências de uma determinada palavra por outra palavra inserida pelo usuário."
   ]
  },
  {
   "cell_type": "code",
   "execution_count": null,
   "id": "d06180f6",
   "metadata": {},
   "outputs": [],
   "source": []
  },
  {
   "attachments": {},
   "cell_type": "markdown",
   "id": "98a4e597",
   "metadata": {},
   "source": [
    "### 32. Escreva um programa que leia um arquivo de texto contendo linhas de código em Python e identifique todas as funções definidas no arquivo, exibindo seus nomes."
   ]
  },
  {
   "cell_type": "code",
   "execution_count": null,
   "id": "ba637a08",
   "metadata": {},
   "outputs": [],
   "source": []
  },
  {
   "attachments": {},
   "cell_type": "markdown",
   "id": "5e7c9ef0",
   "metadata": {},
   "source": [
    "### 33. Crie uma função que calcule o n-ésimo termo da sequência de Fibonacci."
   ]
  },
  {
   "cell_type": "code",
   "execution_count": null,
   "id": "c54b4dbf",
   "metadata": {},
   "outputs": [],
   "source": [
    "def fibonacci_recursivo(n):\n",
    "\n",
    "    if n <= 1:\n",
    "\n",
    "        return n\n",
    "\n",
    "    else:\n",
    "\n",
    "        return fibonacci_recursivo(n - 1) + fibonacci_recursivo(n - 2)"
   ]
  },
  {
   "cell_type": "code",
   "execution_count": null,
   "id": "69693973",
   "metadata": {},
   "outputs": [],
   "source": [
    "def fibonacci(t):\n",
    "\n",
    "    if t <= 1:\n",
    "        return t\n",
    "    else:\n",
    "        return fibonacci(t-1) + fibonacci(t-2)\n",
    "    \n",
    "fibonacci(10)"
   ]
  },
  {
   "cell_type": "code",
   "execution_count": null,
   "id": "cfc04ff2",
   "metadata": {},
   "outputs": [],
   "source": [
    "[10]\n",
    "[9][8]\n",
    "[8, 7][7, 6]\n",
    "[7, 6, 6, 5][6, 5, 5, 4]\n",
    "[6, 5, 5, 4, 5, 4, 4, 3][5, 4, 4, 3, 4, 3, 3, 2]"
   ]
  },
  {
   "cell_type": "code",
   "execution_count": null,
   "id": "fe2b506e",
   "metadata": {},
   "outputs": [],
   "source": [
    "lista_aninhada = [\n",
    "    [\n",
    "      [1, 2, 3],\n",
    "      [4, 5, 6],\n",
    "      [7, 8, 9]\n",
    "    ],\n",
    "    [\n",
    "      [1, 2, 3],\n",
    "      [4, 5, 6],\n",
    "      [7, 8, [1, 2, 'x']]\n",
    "    ],\n",
    "    ['a', 'c', 'b', ['2', '@', ['$', 110, \"&\"]]]\n",
    "]"
   ]
  },
  {
   "cell_type": "code",
   "execution_count": null,
   "id": "b3e21635",
   "metadata": {},
   "outputs": [],
   "source": [
    "lista_aninhada[-1][-1][-1][-1]"
   ]
  },
  {
   "cell_type": "code",
   "execution_count": null,
   "id": "95bad01b",
   "metadata": {},
   "outputs": [],
   "source": [
    "def recursao_lista(variavel):\n",
    "    \n",
    "    return variavel if type(variavel) is not list else recursao_lista(variavel[-1])"
   ]
  },
  {
   "cell_type": "code",
   "execution_count": null,
   "id": "7e2feab7",
   "metadata": {},
   "outputs": [],
   "source": [
    "recursao_lista(lista_aninhada)"
   ]
  },
  {
   "attachments": {},
   "cell_type": "markdown",
   "id": "8c24c1d4",
   "metadata": {},
   "source": [
    "### 34. Crie uma função que calcule o Máximo Divisor Comum (MDC) de dois números usando o algoritmo de Euclides."
   ]
  },
  {
   "cell_type": "code",
   "execution_count": null,
   "id": "5ed64791",
   "metadata": {},
   "outputs": [],
   "source": []
  },
  {
   "attachments": {},
   "cell_type": "markdown",
   "id": "1af58d9b",
   "metadata": {},
   "source": [
    "### 35. Escreva uma função que verifique se um número é um quadrado perfeito e retorne \"SIM\" ou \"NÃO\"."
   ]
  },
  {
   "cell_type": "code",
   "execution_count": null,
   "id": "eb86feec",
   "metadata": {},
   "outputs": [],
   "source": []
  },
  {
   "attachments": {},
   "cell_type": "markdown",
   "id": "60b2e40d",
   "metadata": {},
   "source": [
    "### 36. Crie uma função que receba uma lista de palavras e retorne a palavra mais longa."
   ]
  },
  {
   "cell_type": "code",
   "execution_count": null,
   "id": "08442235",
   "metadata": {},
   "outputs": [],
   "source": []
  },
  {
   "attachments": {},
   "cell_type": "markdown",
   "id": "a94d8ddf",
   "metadata": {},
   "source": [
    "### 37. Crie um programa que simule o jogo \"Pedra, Papel e Tesoura\". O usuário escolhe uma das opções, o computador sorteia outra e o programa determina o vencedor."
   ]
  },
  {
   "cell_type": "code",
   "execution_count": null,
   "id": "5363f8ed",
   "metadata": {},
   "outputs": [],
   "source": []
  },
  {
   "attachments": {},
   "cell_type": "markdown",
   "id": "525ca830",
   "metadata": {},
   "source": [
    "### 38. Implemente um programa que calcule o valor aproximado de π usando a fórmula de Leibniz. *"
   ]
  },
  {
   "cell_type": "code",
   "execution_count": null,
   "id": "068560b9",
   "metadata": {},
   "outputs": [],
   "source": []
  },
  {
   "attachments": {},
   "cell_type": "markdown",
   "id": "810062d3",
   "metadata": {},
   "source": [
    "### 39. Crie um programa que gere uma lista de números primos usando a técnica do Crivo de Eratóstenes. *"
   ]
  },
  {
   "cell_type": "code",
   "execution_count": null,
   "id": "567a2aa1",
   "metadata": {},
   "outputs": [],
   "source": [
    "limite = 100\n",
    "\n",
    "lista_origem = list(range(2, limite + 1))\n",
    "lista_primos = []\n",
    "\n",
    "lista_primos.append(lista_origem[0])\n",
    "\n",
    "while lista_origem:\n",
    "    \n",
    "    lista_origem = [i for i in lista_origem if i % lista_primos[-1] != 0]\n",
    "    \n",
    "    if lista_origem:\n",
    "        lista_primos.append(lista_origem[0])\n",
    "    \n",
    "#lista_primos"
   ]
  },
  {
   "cell_type": "code",
   "execution_count": null,
   "id": "2b8c6553",
   "metadata": {},
   "outputs": [],
   "source": [
    "2, 3, 5, 7, 11, 13, 17, 19, 23, 29, 31, 37, 41, 43, 47, 53, 59, 61, 67, 71, 73, 79, 83, 89, 97"
   ]
  },
  {
   "cell_type": "code",
   "execution_count": null,
   "id": "3c407096",
   "metadata": {},
   "outputs": [],
   "source": [
    "ir = [1200, 1020, 1030, 14000, 1520, 6200, 17400, 28500, 2900]\n",
    "\n",
    "[(str(i), i * .15) for i in ir if i >= 3000]"
   ]
  },
  {
   "attachments": {},
   "cell_type": "markdown",
   "id": "88428a47",
   "metadata": {},
   "source": [
    "### 40. Escreva um programa que resolva a Torre de Hanoi para um número de discos inserido pelo usuário."
   ]
  },
  {
   "cell_type": "code",
   "execution_count": null,
   "id": "56651afe",
   "metadata": {},
   "outputs": [],
   "source": [
    "def TowerOfHanoi(n , source, destination, auxiliary):\n",
    "    \n",
    "    if n==1:\n",
    "        print (\"Move disk 1 from source\",source,\"to destination\",destination)\n",
    "        return\n",
    "    \n",
    "    TowerOfHanoi(n-1, source, auxiliary, destination)\n",
    "    \n",
    "    print (\"Move disk\", n, \"from source\", source, \"to destination\", destination)\n",
    "    TowerOfHanoi(n-1, auxiliary, destination, source)\n",
    "         \n",
    "# Driver code\n",
    "n = 7\n",
    "TowerOfHanoi(n,'A','B','C')"
   ]
  },
  {
   "cell_type": "code",
   "execution_count": null,
   "id": "04f92136",
   "metadata": {},
   "outputs": [],
   "source": []
  },
  {
   "attachments": {},
   "cell_type": "markdown",
   "id": "da8dac8c",
   "metadata": {},
   "source": [
    "### 41. Escreva um programa que converta um número inteiro em sua representação binária usando um loop."
   ]
  },
  {
   "cell_type": "code",
   "execution_count": null,
   "id": "e4a5f80f",
   "metadata": {},
   "outputs": [],
   "source": []
  },
  {
   "attachments": {},
   "cell_type": "markdown",
   "id": "0690dc80",
   "metadata": {},
   "source": [
    "### 42. Implemente uma função que calcule a potência de um número usando recursão. A função deve aceitar dois argumentos: base e expoente."
   ]
  },
  {
   "cell_type": "code",
   "execution_count": null,
   "id": "c446d2a5",
   "metadata": {},
   "outputs": [],
   "source": []
  },
  {
   "attachments": {},
   "cell_type": "markdown",
   "id": "b470762f",
   "metadata": {},
   "source": [
    "### 43. Faça uma função que retorne uma lista contendo todos os números perfeitos em um intervalo dado. Um número perfeito é aquele cuja soma de seus divisores próprios é igual a ele mesmo."
   ]
  },
  {
   "cell_type": "code",
   "execution_count": null,
   "id": "7b21ecf4",
   "metadata": {},
   "outputs": [],
   "source": []
  },
  {
   "attachments": {},
   "cell_type": "markdown",
   "id": "c77182af",
   "metadata": {},
   "source": [
    "### 44. Implemente uma função que calcule a média móvel de uma lista de números para um dado tamanho de janela."
   ]
  },
  {
   "cell_type": "code",
   "execution_count": null,
   "id": "05e895f0",
   "metadata": {},
   "outputs": [],
   "source": []
  },
  {
   "attachments": {},
   "cell_type": "markdown",
   "id": "8c4b503c",
   "metadata": {},
   "source": [
    "### 45. Escreva uma função que gere todas as combinações possíveis de um conjunto de elementos dados."
   ]
  },
  {
   "cell_type": "code",
   "execution_count": null,
   "id": "a643fbb9",
   "metadata": {},
   "outputs": [],
   "source": []
  },
  {
   "attachments": {},
   "cell_type": "markdown",
   "id": "141ff228",
   "metadata": {},
   "source": [
    "### 46. Faça uma função que receba um número inteiro e retorne uma lista de seus dígitos em ordem inversa."
   ]
  },
  {
   "cell_type": "code",
   "execution_count": null,
   "id": "eaf3da97",
   "metadata": {},
   "outputs": [],
   "source": []
  },
  {
   "attachments": {},
   "cell_type": "markdown",
   "id": "2a9a965e",
   "metadata": {},
   "source": [
    "### 47. Implemente uma função que encontre o menor múltiplo comum (MMC) de dois números."
   ]
  },
  {
   "cell_type": "code",
   "execution_count": null,
   "id": "c31d717c",
   "metadata": {},
   "outputs": [],
   "source": []
  },
  {
   "attachments": {},
   "cell_type": "markdown",
   "id": "ddc7c00b",
   "metadata": {},
   "source": [
    "### 48. Crie uma função que calcule a raiz quadrada de um número usando o método de Newton-Raphson."
   ]
  },
  {
   "cell_type": "code",
   "execution_count": null,
   "id": "bc62dc6d",
   "metadata": {},
   "outputs": [],
   "source": []
  },
  {
   "attachments": {},
   "cell_type": "markdown",
   "id": "71fe1c3c",
   "metadata": {},
   "source": [
    "### 49. Você foi contratado para desenvolver um programa de controle de estoque para uma loja. O programa deve permitir ao usuário adicionar produtos ao estoque, realizar vendas e verificar o estoque atual. Cada produto possui um nome, preço unitário e quantidade em estoque.\n",
    "\n",
    "Seu programa deve ter as seguintes funcionalidades:\n",
    "\n",
    "a) Adicionar um produto ao estoque, solicitando ao usuário o nome, preço unitário e quantidade inicial.\n",
    "\n",
    "b) Realizar uma venda, solicitando ao usuário o nome do produto e a quantidade vendida. O programa deve verificar se há estoque suficiente e, se sim, calcular o total da venda e atualizar o estoque.\n",
    "\n",
    "c) Exibir o estoque atual, listando o nome, preço unitário e quantidade de cada produto."
   ]
  },
  {
   "cell_type": "code",
   "execution_count": null,
   "id": "54ca7c37",
   "metadata": {},
   "outputs": [],
   "source": []
  },
  {
   "attachments": {},
   "cell_type": "markdown",
   "id": "a156cb57",
   "metadata": {},
   "source": [
    "### 50. Você foi contratado para criar um sistema de gerenciamento de tarefas. O programa deve permitir que o usuário crie, visualize, marque como concluída e liste tarefas. Cada tarefa possui um título, uma descrição e um status (concluída ou não).\n",
    "\n",
    "Seu programa deve ter as seguintes funcionalidades:\n",
    "\n",
    "a) Adicionar uma nova tarefa à lista, solicitando ao usuário o título e a descrição.\n",
    "\n",
    "b) Marcar uma tarefa como concluída, exibindo a lista de tarefas e permitindo ao usuário escolher qual tarefa marcar.\n",
    "\n",
    "c) Exibir a lista de tarefas, mostrando o título e o status de cada uma.\n",
    "\n",
    "d) Listar apenas as tarefas concluídas.\n",
    "\n",
    "e) Listar apenas as tarefas não concluídas.\n",
    "\n",
    "Além disso, implemente uma função que calcule a porcentagem de tarefas concluídas em relação ao total de tarefas."
   ]
  },
  {
   "cell_type": "code",
   "execution_count": null,
   "id": "5e895786",
   "metadata": {},
   "outputs": [],
   "source": []
  }
 ],
 "metadata": {
  "kernelspec": {
   "display_name": "Python 3 (ipykernel)",
   "language": "python",
   "name": "python3"
  },
  "language_info": {
   "codemirror_mode": {
    "name": "ipython",
    "version": 3
   },
   "file_extension": ".py",
   "mimetype": "text/x-python",
   "name": "python",
   "nbconvert_exporter": "python",
   "pygments_lexer": "ipython3",
   "version": "3.11.4"
  }
 },
 "nbformat": 4,
 "nbformat_minor": 5
}
