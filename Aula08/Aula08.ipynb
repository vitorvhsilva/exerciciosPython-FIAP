{
 "cells": [
  {
   "cell_type": "code",
   "execution_count": null,
   "metadata": {},
   "outputs": [],
   "source": [
    "def soma(*args, mult=1):\n",
    "    x = 0\n",
    "\n",
    "    for i in args:\n",
    "        x += i\n",
    "    \n",
    "    return x * mult\n",
    "\n",
    "soma(1, 2, 3, 5, 6, 7, mult=2)"
   ]
  },
  {
   "cell_type": "code",
   "execution_count": null,
   "metadata": {},
   "outputs": [],
   "source": [
    "def cadastro(**kwargs):\n",
    "    for k,v in kwargs.items():\n",
    "        print(f'Atributo: {k} - Valor: {v}\\n')\n",
    "\n",
    "cadastro(nome='Vagner', idade=45, altura=1.7, peso=65.0, usuario_python=True )"
   ]
  },
  {
   "cell_type": "code",
   "execution_count": 7,
   "metadata": {},
   "outputs": [
    {
     "name": "stdout",
     "output_type": "stream",
     "text": [
      "Nome do projeto: Pelanza\n",
      "Valor de PI: 4.23\n",
      "1\n",
      "2\n"
     ]
    }
   ],
   "source": [
    "def funcao_principal(projeto, pi=3.14, *args, **kwargs):\n",
    "    print(f'Nome do projeto: {projeto}')\n",
    "    print(f'Valor de PI: {pi}')\n",
    "\n",
    "    for i in args:\n",
    "        print(i)\n",
    "\n",
    "    for k,v in kwargs:\n",
    "        print(f'Atributo: {k} - Valor: {v}')\n",
    "\n",
    "funcao_principal('ABC', '4.23', 1, 2 )"
   ]
  }
 ],
 "metadata": {
  "kernelspec": {
   "display_name": "Python 3",
   "language": "python",
   "name": "python3"
  },
  "language_info": {
   "codemirror_mode": {
    "name": "ipython",
    "version": 3
   },
   "file_extension": ".py",
   "mimetype": "text/x-python",
   "name": "python",
   "nbconvert_exporter": "python",
   "pygments_lexer": "ipython3",
   "version": "3.11.4"
  },
  "orig_nbformat": 4
 },
 "nbformat": 4,
 "nbformat_minor": 2
}
