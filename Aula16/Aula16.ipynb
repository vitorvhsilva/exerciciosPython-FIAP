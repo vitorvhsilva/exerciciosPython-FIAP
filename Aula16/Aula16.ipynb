{
 "cells": [
  {
   "cell_type": "code",
   "execution_count": 6,
   "id": "ccc987a4-77b3-4d8e-a73b-7c78ad6242ea",
   "metadata": {},
   "outputs": [
    {
     "name": "stdout",
     "output_type": "stream",
     "text": [
      "Requirement already satisfied: oracledb in c:\\program files\\python312\\lib\\site-packages (2.4.1)\n",
      "Requirement already satisfied: cryptography>=3.2.1 in c:\\program files\\python312\\lib\\site-packages (from oracledb) (43.0.1)\n",
      "Requirement already satisfied: cffi>=1.12 in c:\\program files\\python312\\lib\\site-packages (from cryptography>=3.2.1->oracledb) (1.16.0)\n",
      "Requirement already satisfied: pycparser in c:\\program files\\python312\\lib\\site-packages (from cffi>=1.12->cryptography>=3.2.1->oracledb) (2.22)\n"
     ]
    },
    {
     "name": "stderr",
     "output_type": "stream",
     "text": [
      "DEPRECATION: Loading egg at c:\\program files\\python312\\lib\\site-packages\\vboxapi-1.0-py3.12.egg is deprecated. pip 24.3 will enforce this behaviour change. A possible replacement is to use pip for package installation.. Discussion can be found at https://github.com/pypa/pip/issues/12330\n",
      "\n",
      "[notice] A new release of pip is available: 24.0 -> 24.2\n",
      "[notice] To update, run: python.exe -m pip install --upgrade pip\n"
     ]
    }
   ],
   "source": [
    "!pip install oracledb\n"
   ]
  },
  {
   "cell_type": "code",
   "execution_count": 7,
   "id": "61fb4611-c636-4875-8a9a-5f3750b26656",
   "metadata": {},
   "outputs": [],
   "source": [
    "import oracledb"
   ]
  },
  {
   "cell_type": "code",
   "execution_count": 12,
   "id": "3cac7fef-3e8d-4682-9f7e-74819931949f",
   "metadata": {},
   "outputs": [
    {
     "ename": "DatabaseError",
     "evalue": "DPY-4027: no configuration directory to search for tnsnames.ora",
     "output_type": "error",
     "traceback": [
      "\u001b[1;31m---------------------------------------------------------------------------\u001b[0m",
      "\u001b[1;31mDatabaseError\u001b[0m                             Traceback (most recent call last)",
      "Cell \u001b[1;32mIn[12], line 10\u001b[0m\n\u001b[0;32m      1\u001b[0m query \u001b[38;5;241m=\u001b[39m \u001b[38;5;124m'''\u001b[39m\u001b[38;5;124mCREATE TABLE clientes (\u001b[39m\n\u001b[0;32m      2\u001b[0m \u001b[38;5;124m    nome VARCHAR(255),\u001b[39m\n\u001b[0;32m      3\u001b[0m \u001b[38;5;124m    sobrenome VARCHAR(255),\u001b[39m\n\u001b[1;32m   (...)\u001b[0m\n\u001b[0;32m      7\u001b[0m \u001b[38;5;124m    cep VARCHAR(255)\u001b[39m\n\u001b[0;32m      8\u001b[0m \u001b[38;5;124m)\u001b[39m\u001b[38;5;124m'''\u001b[39m\n\u001b[1;32m---> 10\u001b[0m \u001b[38;5;28;01mwith\u001b[39;00m \u001b[43moracledb\u001b[49m\u001b[38;5;241;43m.\u001b[39;49m\u001b[43mconnect\u001b[49m\u001b[43m(\u001b[49m\u001b[43muser\u001b[49m\u001b[38;5;241;43m=\u001b[39;49m\u001b[38;5;124;43m'\u001b[39;49m\u001b[38;5;124;43mrm558961\u001b[39;49m\u001b[38;5;124;43m'\u001b[39;49m\u001b[43m,\u001b[49m\u001b[43m \u001b[49m\u001b[43mpassword\u001b[49m\u001b[38;5;241;43m=\u001b[39;49m\u001b[38;5;124;43m'\u001b[39;49m\u001b[38;5;124;43m280306\u001b[39;49m\u001b[38;5;124;43m'\u001b[39;49m\u001b[43m,\u001b[49m\u001b[43m \u001b[49m\u001b[43mdsn\u001b[49m\u001b[38;5;241;43m=\u001b[39;49m\u001b[38;5;124;43m'\u001b[39;49m\u001b[38;5;124;43moracle.fiap.com.br\u001b[39;49m\u001b[38;5;124;43m'\u001b[39;49m\u001b[43m,\u001b[49m\u001b[43m \u001b[49m\u001b[43mport\u001b[49m\u001b[38;5;241;43m=\u001b[39;49m\u001b[38;5;124;43m'\u001b[39;49m\u001b[38;5;124;43m1521\u001b[39;49m\u001b[38;5;124;43m'\u001b[39;49m\u001b[43m,\u001b[49m\u001b[43m \u001b[49m\u001b[43msid\u001b[49m\u001b[38;5;241;43m=\u001b[39;49m\u001b[38;5;124;43m'\u001b[39;49m\u001b[38;5;124;43mORCL\u001b[39;49m\u001b[38;5;124;43m'\u001b[39;49m\u001b[43m)\u001b[49m \u001b[38;5;28;01mas\u001b[39;00m conn:\n\u001b[0;32m     11\u001b[0m     cursor \u001b[38;5;241m=\u001b[39m conn\u001b[38;5;241m.\u001b[39mcursor()\n\u001b[0;32m     12\u001b[0m     cursor\u001b[38;5;241m.\u001b[39mexecute(query)\n",
      "File \u001b[1;32mC:\\Program Files\\Python312\\Lib\\site-packages\\oracledb\\connection.py:1169\u001b[0m, in \u001b[0;36m_connection_factory.<locals>.connect\u001b[1;34m(dsn, pool, conn_class, params, **kwargs)\u001b[0m\n\u001b[0;32m   1167\u001b[0m     message \u001b[38;5;241m=\u001b[39m \u001b[38;5;124m\"\u001b[39m\u001b[38;5;124mpool must be an instance of oracledb.ConnectionPool\u001b[39m\u001b[38;5;124m\"\u001b[39m\n\u001b[0;32m   1168\u001b[0m     \u001b[38;5;28;01mraise\u001b[39;00m \u001b[38;5;167;01mTypeError\u001b[39;00m(message)\n\u001b[1;32m-> 1169\u001b[0m \u001b[38;5;28;01mreturn\u001b[39;00m \u001b[43mconn_class\u001b[49m\u001b[43m(\u001b[49m\u001b[43mdsn\u001b[49m\u001b[38;5;241;43m=\u001b[39;49m\u001b[43mdsn\u001b[49m\u001b[43m,\u001b[49m\u001b[43m \u001b[49m\u001b[43mpool\u001b[49m\u001b[38;5;241;43m=\u001b[39;49m\u001b[43mpool\u001b[49m\u001b[43m,\u001b[49m\u001b[43m \u001b[49m\u001b[43mparams\u001b[49m\u001b[38;5;241;43m=\u001b[39;49m\u001b[43mparams\u001b[49m\u001b[43m,\u001b[49m\u001b[43m \u001b[49m\u001b[38;5;241;43m*\u001b[39;49m\u001b[38;5;241;43m*\u001b[39;49m\u001b[43mkwargs\u001b[49m\u001b[43m)\u001b[49m\n",
      "File \u001b[1;32mC:\\Program Files\\Python312\\Lib\\site-packages\\oracledb\\connection.py:527\u001b[0m, in \u001b[0;36mConnection.__init__\u001b[1;34m(self, dsn, pool, params, **kwargs)\u001b[0m\n\u001b[0;32m    525\u001b[0m \u001b[38;5;28;01melse\u001b[39;00m:\n\u001b[0;32m    526\u001b[0m     params_impl \u001b[38;5;241m=\u001b[39m params\u001b[38;5;241m.\u001b[39m_impl\u001b[38;5;241m.\u001b[39mcopy()\n\u001b[1;32m--> 527\u001b[0m dsn \u001b[38;5;241m=\u001b[39m \u001b[43mparams_impl\u001b[49m\u001b[38;5;241;43m.\u001b[39;49m\u001b[43mprocess_args\u001b[49m\u001b[43m(\u001b[49m\u001b[43mdsn\u001b[49m\u001b[43m,\u001b[49m\u001b[43m \u001b[49m\u001b[43mkwargs\u001b[49m\u001b[43m,\u001b[49m\u001b[43m \u001b[49m\u001b[43mthin\u001b[49m\u001b[43m)\u001b[49m\n\u001b[0;32m    529\u001b[0m \u001b[38;5;66;03m# see if connection is being acquired from a pool\u001b[39;00m\n\u001b[0;32m    530\u001b[0m \u001b[38;5;28;01mif\u001b[39;00m pool \u001b[38;5;129;01mis\u001b[39;00m \u001b[38;5;28;01mNone\u001b[39;00m:\n",
      "File \u001b[1;32msrc\\\\oracledb\\\\impl/base/connect_params.pyx:468\u001b[0m, in \u001b[0;36moracledb.base_impl.ConnectParamsImpl.process_args\u001b[1;34m()\u001b[0m\n",
      "File \u001b[1;32msrc\\\\oracledb\\\\impl/base/connect_params.pyx:405\u001b[0m, in \u001b[0;36moracledb.base_impl.ConnectParamsImpl.parse_connect_string\u001b[1;34m()\u001b[0m\n",
      "File \u001b[1;32msrc\\\\oracledb\\\\impl/base/connect_params.pyx:403\u001b[0m, in \u001b[0;36moracledb.base_impl.ConnectParamsImpl.parse_connect_string\u001b[1;34m()\u001b[0m\n",
      "File \u001b[1;32msrc\\\\oracledb\\\\impl/base/connect_params.pyx:259\u001b[0m, in \u001b[0;36moracledb.base_impl.ConnectParamsImpl._parse_connect_string\u001b[1;34m()\u001b[0m\n",
      "File \u001b[1;32msrc\\\\oracledb\\\\impl/base/connect_params.pyx:1009\u001b[0m, in \u001b[0;36moracledb.base_impl.TnsnamesFileReader.read_tnsnames\u001b[1;34m()\u001b[0m\n",
      "File \u001b[1;32mC:\\Program Files\\Python312\\Lib\\site-packages\\oracledb\\errors.py:195\u001b[0m, in \u001b[0;36m_raise_err\u001b[1;34m(error_num, context_error_message, cause, **args)\u001b[0m\n\u001b[0;32m    190\u001b[0m \u001b[38;5;250m\u001b[39m\u001b[38;5;124;03m\"\"\"\u001b[39;00m\n\u001b[0;32m    191\u001b[0m \u001b[38;5;124;03mRaises a driver specific exception from the specified error number and\u001b[39;00m\n\u001b[0;32m    192\u001b[0m \u001b[38;5;124;03msupplied arguments.\u001b[39;00m\n\u001b[0;32m    193\u001b[0m \u001b[38;5;124;03m\"\"\"\u001b[39;00m\n\u001b[0;32m    194\u001b[0m error \u001b[38;5;241m=\u001b[39m _create_err(error_num, context_error_message, cause, \u001b[38;5;241m*\u001b[39m\u001b[38;5;241m*\u001b[39margs)\n\u001b[1;32m--> 195\u001b[0m \u001b[38;5;28;01mraise\u001b[39;00m error\u001b[38;5;241m.\u001b[39mexc_type(error) \u001b[38;5;28;01mfrom\u001b[39;00m \u001b[38;5;21;01mcause\u001b[39;00m\n",
      "\u001b[1;31mDatabaseError\u001b[0m: DPY-4027: no configuration directory to search for tnsnames.ora"
     ]
    }
   ],
   "source": [
    "query = '''CREATE TABLE clientes (\n",
    "    nome VARCHAR(255),\n",
    "    sobrenome VARCHAR(255),\n",
    "    idade INTEGER,\n",
    "    cidade VARCHAR(255),\n",
    "    estado VARCHAR(2),\n",
    "    cep VARCHAR(255)\n",
    ")'''\n",
    "\n",
    "with oracledb.connect(user='rm558961', password='280306', dsn='oracle.fiap.com.br', port='1521', sid='ORCL') as conn:\n",
    "    cursor = conn.cursor()\n",
    "    cursor.execute(query)"
   ]
  },
  {
   "cell_type": "code",
   "execution_count": 23,
   "id": "d04c1312-54df-4da1-99cc-85c9e4136398",
   "metadata": {},
   "outputs": [],
   "source": [
    "def inserir_clientes():\n",
    "    with open('posicional.txt', encoding='utf-8') as file:\n",
    "        lista = file.readlines()\n",
    "    \n",
    "    lista.pop(0)\n",
    "    lista.pop(0)\n",
    "    \n",
    "    def limpar_dado(dado: str):\n",
    "        return dado.strip()\n",
    "    \n",
    "    with sqlite3.connect('clientes.db') as conn:\n",
    "    \n",
    "        cursor = conn.cursor()\n",
    "    \n",
    "        for linha in lista:\n",
    "            nome = limpar_dado(linha[:31]) # nome\n",
    "            sobrenome = limpar_dado(linha[31:62]) # sobrenome\n",
    "            idade = limpar_dado(linha[62:69]) # idade\n",
    "            cidade = limpar_dado(linha[69:89]) # cidade\n",
    "            estado = limpar_dado(linha[89:96]) # estado\n",
    "            cep = linha[96:104] # cep\n",
    "    \n",
    "            insert = f'''\n",
    "            INSERT INTO clientes (nome, sobrenome, idade, cidade, estado, cep)\n",
    "            VALUES (\"{nome}\", \"{sobrenome}\", {idade}, \"{cidade}\", \"{estado}\", \"{cep}\");\n",
    "            '''\n",
    "            \n",
    "            cursor.execute(insert)\n",
    "    \n",
    "    "
   ]
  },
  {
   "cell_type": "code",
   "execution_count": 43,
   "id": "0c420330-5a4f-439b-8eee-c19ae7e975c4",
   "metadata": {},
   "outputs": [],
   "source": [
    "def consultar_banco():\n",
    "    with sqlite3.connect('clientes.db') as conn:\n",
    "    \n",
    "        cursor = conn.cursor()\n",
    "        dados = cursor.execute('SELECT * FROM clientes')\n",
    "        tabela = dados.fetchall()\n",
    "    \n",
    "    print(tabela)"
   ]
  },
  {
   "cell_type": "code",
   "execution_count": 26,
   "id": "b97f825d-5564-4321-8d48-91b9a854a861",
   "metadata": {},
   "outputs": [
    {
     "name": "stdout",
     "output_type": "stream",
     "text": [
      "[('Maria', 'Silva', 29, 'São Paulo', 'SP', '01001000'), ('João', 'Souza', 34, 'Rio de Janeiro', 'RJ', '20040002'), ('Ana', 'Pereira', 45, 'Belo Horizonte', 'MG', '30130010'), ('Carlos', 'Oliveira', 56, 'Porto Alegre', 'RS', '90040020'), ('Fernanda', 'Santos', 32, 'Salvador', 'BA', '40020030'), ('Marcos', 'Lima', 40, 'Curitiba', 'PR', '80030040'), ('Luciana', 'Almeida', 25, 'Fortaleza', 'CE', '60040050'), ('Rafael', 'Gomes', 39, 'Manaus', 'AM', '69020060'), ('Juliana', 'Costa', 48, 'Recife', 'PE', '50010070'), ('Rodrigo', 'Fernandes', 52, 'Brasília', 'DF', '70000080'), ('Bruna', 'Rodrigues', 27, 'São Paulo', 'SP', '01002000'), ('Eduardo', 'Moreira', 35, 'Campinas', 'SP', '13010001'), ('Gabriela', 'Melo', 44, 'Goiânia', 'GO', '74020002'), ('André', 'Lima', 50, 'Porto Alegre', 'RS', '90050030'), ('Patrícia', 'Nascimento', 31, 'Curitiba', 'PR', '80040040'), ('Thiago', 'Martins', 46, 'Salvador', 'BA', '40030050'), ('Camila', 'Albuquerque', 33, 'Belo Horizonte', 'MG', '30140060'), ('Fernando', 'Carvalho', 47, 'São Luís', 'MA', '65010070'), ('Carla', 'Neves', 28, 'Recife', 'PE', '50020080'), ('Lucas', 'Batista', 41, 'Rio de Janeiro', 'RJ', '20050090'), ('Isabela', 'Azevedo', 30, 'Fortaleza', 'CE', '60030010'), ('Vinícius', 'Teixeira', 38, 'Brasília', 'DF', '70010020'), ('Paula', 'Ferreira', 36, 'Manaus', 'AM', '69030030'), ('Guilherme', 'Almeida', 42, 'Belém', 'PA', '66010040'), ('Aline', 'Souza', 26, 'Curitiba', 'PR', '80050050'), ('Ricardo', 'Barbosa', 49, 'Porto Alegre', 'RS', '90060060'), ('Tatiana', 'Silva', 53, 'São Paulo', 'SP', '01003000'), ('Gustavo', 'Rocha', 37, 'Belo Horizonte', 'MG', '30150070'), ('Mariana', 'Costa', 24, 'Recife', 'PE', '50030080'), ('Roberto', 'Fernandes', 55, 'Goiânia', 'GO', '74030090'), ('Lorena', 'Almeida', 32, 'Curitiba', 'PR', '80060010'), ('Felipe', 'Gomes', 43, 'Fortaleza', 'CE', '60040020'), ('Vitor', 'Santos', 39, 'Manaus', 'AM', '69040030'), ('Bianca', 'Nunes', 27, 'São Paulo', 'SP', '01004000'), ('Rogério', 'Oliveira', 51, 'Porto Alegre', 'RS', '90070040'), ('Juliana', 'Moreira', 33, 'Salvador', 'BA', '40040050'), ('Leandro', 'Pereira', 46, 'Belo Horizonte', 'MG', '30160060'), ('Priscila', 'Araújo', 29, 'Goiânia', 'GO', '74040070'), ('Henrique', 'Martins', 40, 'Curitiba', 'PR', '80070080'), ('Lívia', 'Souza', 28, 'Recife', 'PE', '50040090'), ('Renato', 'Mendes', 54, 'São Paulo', 'SP', '01005000'), ('Alice', 'Nascimento', 25, 'Porto Alegre', 'RS', '90080010'), ('Daniel', 'Carvalho', 48, 'Salvador', 'BA', '40050020'), ('Adriana', 'Almeida', 30, 'Belo Horizonte', 'MG', '30170030'), ('Rodrigo', 'Rocha', 52, 'Fortaleza', 'CE', '60050040'), ('Bruno', 'Lima', 41, 'Manaus', 'AM', '69050050'), ('Letícia', 'Souza', 26, 'Curitiba', 'PR', '80080060'), ('Igor', 'Nunes', 39, 'Goiânia', 'GO', '74050070'), ('Juliana', 'Santos', 45, 'Salvador', 'BA', '40060080'), ('Eduarda', 'Rocha', 32, 'São Paulo', 'SP', '01006000'), ('Marcelo', 'Oliveira', 49, 'Porto Alegre', 'RS', '90090010'), ('Rafaela', 'Pereira', 37, 'Belo Horizonte', 'MG', '30180020'), ('Joana', 'Martins', 31, 'Goiânia', 'GO', '74060030'), ('Paulo', 'Nascimento', 43, 'Curitiba', 'PR', '80090040'), ('Carolina', 'Souza', 28, 'Recife', 'PE', '50050050'), ('Renata', 'Costa', 50, 'Manaus', 'AM', '69060060'), ('Thiago', 'Gomes', 47, 'Fortaleza', 'CE', '60060070'), ('Luiz', 'Lima', 38, 'São Paulo', 'SP', '01007000'), ('Marina', 'Almeida', 24, 'Belo Horizonte', 'MG', '30190030'), ('Gustavo', 'Santos', 51, 'Porto Alegre', 'RS', '90100040'), ('Flávia', 'Silva', 35, 'Curitiba', 'PR', '80100050'), ('Ricardo', 'Moreira', 49, 'Goiânia', 'GO', '74070060'), ('Vanessa', 'Nunes', 33, 'Salvador', 'BA', '40070070'), ('Mateus', 'Barbosa', 36, 'Fortaleza', 'CE', '60070080'), ('Bianca', 'Azevedo', 32, 'São Paulo', 'SP', '01008000'), ('Vinícius', 'Ferreira', 48, 'Manaus', 'AM', '69070010'), ('Juliana', 'Martins', 29, 'Recife', 'PE', '50060020'), ('Guilherme', 'Nascimento', 41, 'Curitiba', 'PR', '80110030'), ('Patrícia', 'Souza', 50, 'Porto Alegre', 'RS', '90110040'), ('Felipe', 'Santos', 45, 'Salvador', 'BA', '40080050'), ('Daniela', 'Almeida', 30, 'Belo Horizonte', 'MG', '30200060'), ('Leandro', 'Pereira', 37, 'Goiânia', 'GO', '74080070'), ('Rafael', 'Silva', 44, 'São Paulo', 'SP', '01009000'), ('Camila', 'Lima', 39, 'Fortaleza', 'CE', '60080080'), ('Fernanda', 'Gomes', 31, 'Porto Alegre', 'RS', '90120090'), ('Rodrigo', 'Nunes', 53, 'Curitiba', 'PR', '80120010'), ('Larissa', 'Barbosa', 24, 'Manaus', 'AM', '69080020'), ('André', 'Rocha', 46, 'Goiânia', 'GO', '74090030'), ('Juliana', 'Moreira', 33, 'Salvador', 'BA', '40090040'), ('Gabriel', 'Azevedo', 38, 'São Paulo', 'SP', '01010000'), ('Mariana', 'Santos', 27, 'Recife', 'PE', '50070050'), ('Renato', 'Nascimento', 52, 'Belo Horizonte', 'MG', '30210060'), ('Roberta', 'Souza', 43, 'Porto Alegre', 'RS', '90130070'), ('Fernando', 'Lima', 50, 'Manaus', 'AM', '69090080'), ('Bruna', 'Carvalho', 28, 'Fortaleza', 'CE', '60090090'), ('Lucas', 'Nascimento', 36, 'Goiânia', 'GO', '74100010'), ('Isabela', 'Costa', 41, 'Salvador', 'BA', '40100020'), ('Gustavo', 'Silva', 30, 'São Paulo', 'SP', '01011000'), ('Carolina', 'Almeida', 44, 'Curitiba', 'PR', '80130030'), ('Marcelo', 'Moreira', 37, 'Porto Alegre', 'RS', '90140040')]\n"
     ]
    }
   ],
   "source": [
    "def deletar_banco():\n",
    "    with sqlite3.connect('clientes.db') as conn:\n",
    "    \n",
    "        cursor = conn.cursor()\n",
    "        cursor.execute('DELETE FROM clientes')"
   ]
  },
  {
   "cell_type": "code",
   "execution_count": 41,
   "id": "56daabbd-fc3e-498f-9383-ad25b9a80166",
   "metadata": {},
   "outputs": [],
   "source": [
    "def update_banco():\n",
    "    with sqlite3.connect('clientes.db') as conn:\n",
    "\n",
    "        cursor = conn.cursor()\n",
    "        cursor.execute(f'UPDATE clientes SET nome = \"Vitor\"')\n",
    "            "
   ]
  },
  {
   "cell_type": "code",
   "execution_count": 45,
   "id": "d691c5d6-a6ea-4f3d-b53d-c93ffaa5208b",
   "metadata": {},
   "outputs": [
    {
     "name": "stdout",
     "output_type": "stream",
     "text": [
      "[('Vitor', 'Silva', 29, 'São Paulo', 'SP', '01001000'), ('Vitor', 'Souza', 34, 'Rio de Janeiro', 'RJ', '20040002'), ('Vitor', 'Pereira', 45, 'Belo Horizonte', 'MG', '30130010'), ('Vitor', 'Oliveira', 56, 'Porto Alegre', 'RS', '90040020'), ('Vitor', 'Santos', 32, 'Salvador', 'BA', '40020030'), ('Vitor', 'Lima', 40, 'Curitiba', 'PR', '80030040'), ('Vitor', 'Almeida', 25, 'Fortaleza', 'CE', '60040050'), ('Vitor', 'Gomes', 39, 'Manaus', 'AM', '69020060'), ('Vitor', 'Costa', 48, 'Recife', 'PE', '50010070'), ('Vitor', 'Fernandes', 52, 'Brasília', 'DF', '70000080'), ('Vitor', 'Rodrigues', 27, 'São Paulo', 'SP', '01002000'), ('Vitor', 'Moreira', 35, 'Campinas', 'SP', '13010001'), ('Vitor', 'Melo', 44, 'Goiânia', 'GO', '74020002'), ('Vitor', 'Lima', 50, 'Porto Alegre', 'RS', '90050030'), ('Vitor', 'Nascimento', 31, 'Curitiba', 'PR', '80040040'), ('Vitor', 'Martins', 46, 'Salvador', 'BA', '40030050'), ('Vitor', 'Albuquerque', 33, 'Belo Horizonte', 'MG', '30140060'), ('Vitor', 'Carvalho', 47, 'São Luís', 'MA', '65010070'), ('Vitor', 'Neves', 28, 'Recife', 'PE', '50020080'), ('Vitor', 'Batista', 41, 'Rio de Janeiro', 'RJ', '20050090'), ('Vitor', 'Azevedo', 30, 'Fortaleza', 'CE', '60030010'), ('Vitor', 'Teixeira', 38, 'Brasília', 'DF', '70010020'), ('Vitor', 'Ferreira', 36, 'Manaus', 'AM', '69030030'), ('Vitor', 'Almeida', 42, 'Belém', 'PA', '66010040'), ('Vitor', 'Souza', 26, 'Curitiba', 'PR', '80050050'), ('Vitor', 'Barbosa', 49, 'Porto Alegre', 'RS', '90060060'), ('Vitor', 'Silva', 53, 'São Paulo', 'SP', '01003000'), ('Vitor', 'Rocha', 37, 'Belo Horizonte', 'MG', '30150070'), ('Vitor', 'Costa', 24, 'Recife', 'PE', '50030080'), ('Vitor', 'Fernandes', 55, 'Goiânia', 'GO', '74030090'), ('Vitor', 'Almeida', 32, 'Curitiba', 'PR', '80060010'), ('Vitor', 'Gomes', 43, 'Fortaleza', 'CE', '60040020'), ('Vitor', 'Santos', 39, 'Manaus', 'AM', '69040030'), ('Vitor', 'Nunes', 27, 'São Paulo', 'SP', '01004000'), ('Vitor', 'Oliveira', 51, 'Porto Alegre', 'RS', '90070040'), ('Vitor', 'Moreira', 33, 'Salvador', 'BA', '40040050'), ('Vitor', 'Pereira', 46, 'Belo Horizonte', 'MG', '30160060'), ('Vitor', 'Araújo', 29, 'Goiânia', 'GO', '74040070'), ('Vitor', 'Martins', 40, 'Curitiba', 'PR', '80070080'), ('Vitor', 'Souza', 28, 'Recife', 'PE', '50040090'), ('Vitor', 'Mendes', 54, 'São Paulo', 'SP', '01005000'), ('Vitor', 'Nascimento', 25, 'Porto Alegre', 'RS', '90080010'), ('Vitor', 'Carvalho', 48, 'Salvador', 'BA', '40050020'), ('Vitor', 'Almeida', 30, 'Belo Horizonte', 'MG', '30170030'), ('Vitor', 'Rocha', 52, 'Fortaleza', 'CE', '60050040'), ('Vitor', 'Lima', 41, 'Manaus', 'AM', '69050050'), ('Vitor', 'Souza', 26, 'Curitiba', 'PR', '80080060'), ('Vitor', 'Nunes', 39, 'Goiânia', 'GO', '74050070'), ('Vitor', 'Santos', 45, 'Salvador', 'BA', '40060080'), ('Vitor', 'Rocha', 32, 'São Paulo', 'SP', '01006000'), ('Vitor', 'Oliveira', 49, 'Porto Alegre', 'RS', '90090010'), ('Vitor', 'Pereira', 37, 'Belo Horizonte', 'MG', '30180020'), ('Vitor', 'Martins', 31, 'Goiânia', 'GO', '74060030'), ('Vitor', 'Nascimento', 43, 'Curitiba', 'PR', '80090040'), ('Vitor', 'Souza', 28, 'Recife', 'PE', '50050050'), ('Vitor', 'Costa', 50, 'Manaus', 'AM', '69060060'), ('Vitor', 'Gomes', 47, 'Fortaleza', 'CE', '60060070'), ('Vitor', 'Lima', 38, 'São Paulo', 'SP', '01007000'), ('Vitor', 'Almeida', 24, 'Belo Horizonte', 'MG', '30190030'), ('Vitor', 'Santos', 51, 'Porto Alegre', 'RS', '90100040'), ('Vitor', 'Silva', 35, 'Curitiba', 'PR', '80100050'), ('Vitor', 'Moreira', 49, 'Goiânia', 'GO', '74070060'), ('Vitor', 'Nunes', 33, 'Salvador', 'BA', '40070070'), ('Vitor', 'Barbosa', 36, 'Fortaleza', 'CE', '60070080'), ('Vitor', 'Azevedo', 32, 'São Paulo', 'SP', '01008000'), ('Vitor', 'Ferreira', 48, 'Manaus', 'AM', '69070010'), ('Vitor', 'Martins', 29, 'Recife', 'PE', '50060020'), ('Vitor', 'Nascimento', 41, 'Curitiba', 'PR', '80110030'), ('Vitor', 'Souza', 50, 'Porto Alegre', 'RS', '90110040'), ('Vitor', 'Santos', 45, 'Salvador', 'BA', '40080050'), ('Vitor', 'Almeida', 30, 'Belo Horizonte', 'MG', '30200060'), ('Vitor', 'Pereira', 37, 'Goiânia', 'GO', '74080070'), ('Vitor', 'Silva', 44, 'São Paulo', 'SP', '01009000'), ('Vitor', 'Lima', 39, 'Fortaleza', 'CE', '60080080'), ('Vitor', 'Gomes', 31, 'Porto Alegre', 'RS', '90120090'), ('Vitor', 'Nunes', 53, 'Curitiba', 'PR', '80120010'), ('Vitor', 'Barbosa', 24, 'Manaus', 'AM', '69080020'), ('Vitor', 'Rocha', 46, 'Goiânia', 'GO', '74090030'), ('Vitor', 'Moreira', 33, 'Salvador', 'BA', '40090040'), ('Vitor', 'Azevedo', 38, 'São Paulo', 'SP', '01010000'), ('Vitor', 'Santos', 27, 'Recife', 'PE', '50070050'), ('Vitor', 'Nascimento', 52, 'Belo Horizonte', 'MG', '30210060'), ('Vitor', 'Souza', 43, 'Porto Alegre', 'RS', '90130070'), ('Vitor', 'Lima', 50, 'Manaus', 'AM', '69090080'), ('Vitor', 'Carvalho', 28, 'Fortaleza', 'CE', '60090090'), ('Vitor', 'Nascimento', 36, 'Goiânia', 'GO', '74100010'), ('Vitor', 'Costa', 41, 'Salvador', 'BA', '40100020'), ('Vitor', 'Silva', 30, 'São Paulo', 'SP', '01011000'), ('Vitor', 'Almeida', 44, 'Curitiba', 'PR', '80130030'), ('Vitor', 'Moreira', 37, 'Porto Alegre', 'RS', '90140040')]\n"
     ]
    }
   ],
   "source": [
    "update_banco()\n",
    "consultar_banco()"
   ]
  }
 ],
 "metadata": {
  "kernelspec": {
   "display_name": "Python 3 (ipykernel)",
   "language": "python",
   "name": "python3"
  },
  "language_info": {
   "codemirror_mode": {
    "name": "ipython",
    "version": 3
   },
   "file_extension": ".py",
   "mimetype": "text/x-python",
   "name": "python",
   "nbconvert_exporter": "python",
   "pygments_lexer": "ipython3",
   "version": "3.12.3"
  }
 },
 "nbformat": 4,
 "nbformat_minor": 5
}
